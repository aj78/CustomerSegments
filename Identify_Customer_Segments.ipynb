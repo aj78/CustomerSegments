{
 "cells": [
  {
   "cell_type": "markdown",
   "metadata": {},
   "source": [
    "# Project: Identify Customer Segments\n",
    "\n",
    "In this project, you will apply unsupervised learning techniques to identify segments of the population that form the core customer base for a mail-order sales company in Germany. These segments can then be used to direct marketing campaigns towards audiences that will have the highest expected rate of returns. The data that you will use has been provided by our partners at Bertelsmann Arvato Analytics, and represents a real-life data science task.\n",
    "\n",
    "This notebook will help you complete this task by providing a framework within which you will perform your analysis steps. In each step of the project, you will see some text describing the subtask that you will perform, followed by one or more code cells for you to complete your work. **Feel free to add additional code and markdown cells as you go along so that you can explore everything in precise chunks.** The code cells provided in the base template will outline only the major tasks, and will usually not be enough to cover all of the minor tasks that comprise it.\n",
    "\n",
    "It should be noted that while there will be precise guidelines on how you should handle certain tasks in the project, there will also be places where an exact specification is not provided. **There will be times in the project where you will need to make and justify your own decisions on how to treat the data.** These are places where there may not be only one way to handle the data. In real-life tasks, there may be many valid ways to approach an analysis task. One of the most important things you can do is clearly document your approach so that other scientists can understand the decisions you've made.\n",
    "\n",
    "At the end of most sections, there will be a Markdown cell labeled **Discussion**. In these cells, you will report your findings for the completed section, as well as document the decisions that you made in your approach to each subtask. **Your project will be evaluated not just on the code used to complete the tasks outlined, but also your communication about your observations and conclusions at each stage.**"
   ]
  },
  {
   "cell_type": "code",
   "execution_count": 1,
   "metadata": {},
   "outputs": [
    {
     "data": {
      "text/plain": [
       "'\\nImport note: The classroom currently uses sklearn version 0.19.\\nIf you need to use an imputer, it is available in sklearn.preprocessing.Imputer,\\ninstead of sklearn.impute as in newer versions of sklearn.\\n'"
      ]
     },
     "execution_count": 1,
     "metadata": {},
     "output_type": "execute_result"
    }
   ],
   "source": [
    "# import libraries here; add more as necessary\n",
    "import numpy as np\n",
    "import pandas as pd\n",
    "import matplotlib.pyplot as plt\n",
    "import seaborn as sns\n",
    "\n",
    "# magic word for producing visualizations in notebook\n",
    "%matplotlib inline\n",
    "\n",
    "import ast\n",
    "from sklearn import preprocessing\n",
    "from sklearn.model_selection import train_test_split\n",
    "from sklearn.ensemble import RandomForestClassifier\n",
    "from sklearn.metrics import accuracy_score\n",
    "from sklearn.decomposition import PCA\n",
    "from sklearn.cluster import KMeans\n",
    "'''\n",
    "Import note: The classroom currently uses sklearn version 0.19.\n",
    "If you need to use an imputer, it is available in sklearn.preprocessing.Imputer,\n",
    "instead of sklearn.impute as in newer versions of sklearn.\n",
    "'''"
   ]
  },
  {
   "cell_type": "markdown",
   "metadata": {},
   "source": [
    "### Step 0: Load the Data\n",
    "\n",
    "There are four files associated with this project (not including this one):\n",
    "\n",
    "- `Udacity_AZDIAS_Subset.csv`: Demographics data for the general population of Germany; 891211 persons (rows) x 85 features (columns).\n",
    "- `Udacity_CUSTOMERS_Subset.csv`: Demographics data for customers of a mail-order company; 191652 persons (rows) x 85 features (columns).\n",
    "- `Data_Dictionary.md`: Detailed information file about the features in the provided datasets.\n",
    "- `AZDIAS_Feature_Summary.csv`: Summary of feature attributes for demographics data; 85 features (rows) x 4 columns\n",
    "\n",
    "Each row of the demographics files represents a single person, but also includes information outside of individuals, including information about their household, building, and neighborhood. You will use this information to cluster the general population into groups with similar demographic properties. Then, you will see how the people in the customers dataset fit into those created clusters. The hope here is that certain clusters are over-represented in the customers data, as compared to the general population; those over-represented clusters will be assumed to be part of the core userbase. This information can then be used for further applications, such as targeting for a marketing campaign.\n",
    "\n",
    "To start off with, load in the demographics data for the general population into a pandas DataFrame, and do the same for the feature attributes summary. Note for all of the `.csv` data files in this project: they're semicolon (`;`) delimited, so you'll need an additional argument in your [`read_csv()`](https://pandas.pydata.org/pandas-docs/stable/generated/pandas.read_csv.html) call to read in the data properly. Also, considering the size of the main dataset, it may take some time for it to load completely.\n",
    "\n",
    "Once the dataset is loaded, it's recommended that you take a little bit of time just browsing the general structure of the dataset and feature summary file. You'll be getting deep into the innards of the cleaning in the first major step of the project, so gaining some general familiarity can help you get your bearings."
   ]
  },
  {
   "cell_type": "code",
   "execution_count": 2,
   "metadata": {},
   "outputs": [],
   "source": [
    "# Load in the general demographics data.\n",
    "azdias = pd.read_csv('Udacity_AZDIAS_Subset.csv', sep=';')\n",
    "\n",
    "# Load in the feature summary file.\n",
    "feat_info = pd.read_csv('AZDIAS_Feature_Summary.csv', sep=';')"
   ]
  },
  {
   "cell_type": "code",
   "execution_count": 3,
   "metadata": {},
   "outputs": [
    {
     "name": "stdout",
     "output_type": "stream",
     "text": [
      "azdias shape (891221, 85)\n",
      "feat_info shape (85, 4)\n"
     ]
    },
    {
     "data": {
      "text/html": [
       "<div>\n",
       "<style scoped>\n",
       "    .dataframe tbody tr th:only-of-type {\n",
       "        vertical-align: middle;\n",
       "    }\n",
       "\n",
       "    .dataframe tbody tr th {\n",
       "        vertical-align: top;\n",
       "    }\n",
       "\n",
       "    .dataframe thead th {\n",
       "        text-align: right;\n",
       "    }\n",
       "</style>\n",
       "<table border=\"1\" class=\"dataframe\">\n",
       "  <thead>\n",
       "    <tr style=\"text-align: right;\">\n",
       "      <th></th>\n",
       "      <th>AGER_TYP</th>\n",
       "      <th>ALTERSKATEGORIE_GROB</th>\n",
       "      <th>ANREDE_KZ</th>\n",
       "      <th>CJT_GESAMTTYP</th>\n",
       "      <th>FINANZ_MINIMALIST</th>\n",
       "      <th>FINANZ_SPARER</th>\n",
       "      <th>FINANZ_VORSORGER</th>\n",
       "      <th>FINANZ_ANLEGER</th>\n",
       "      <th>FINANZ_UNAUFFAELLIGER</th>\n",
       "      <th>FINANZ_HAUSBAUER</th>\n",
       "      <th>...</th>\n",
       "      <th>PLZ8_ANTG1</th>\n",
       "      <th>PLZ8_ANTG2</th>\n",
       "      <th>PLZ8_ANTG3</th>\n",
       "      <th>PLZ8_ANTG4</th>\n",
       "      <th>PLZ8_BAUMAX</th>\n",
       "      <th>PLZ8_HHZ</th>\n",
       "      <th>PLZ8_GBZ</th>\n",
       "      <th>ARBEIT</th>\n",
       "      <th>ORTSGR_KLS9</th>\n",
       "      <th>RELAT_AB</th>\n",
       "    </tr>\n",
       "  </thead>\n",
       "  <tbody>\n",
       "    <tr>\n",
       "      <th>0</th>\n",
       "      <td>-1</td>\n",
       "      <td>2</td>\n",
       "      <td>1</td>\n",
       "      <td>2.0</td>\n",
       "      <td>3</td>\n",
       "      <td>4</td>\n",
       "      <td>3</td>\n",
       "      <td>5</td>\n",
       "      <td>5</td>\n",
       "      <td>3</td>\n",
       "      <td>...</td>\n",
       "      <td>NaN</td>\n",
       "      <td>NaN</td>\n",
       "      <td>NaN</td>\n",
       "      <td>NaN</td>\n",
       "      <td>NaN</td>\n",
       "      <td>NaN</td>\n",
       "      <td>NaN</td>\n",
       "      <td>NaN</td>\n",
       "      <td>NaN</td>\n",
       "      <td>NaN</td>\n",
       "    </tr>\n",
       "    <tr>\n",
       "      <th>1</th>\n",
       "      <td>-1</td>\n",
       "      <td>1</td>\n",
       "      <td>2</td>\n",
       "      <td>5.0</td>\n",
       "      <td>1</td>\n",
       "      <td>5</td>\n",
       "      <td>2</td>\n",
       "      <td>5</td>\n",
       "      <td>4</td>\n",
       "      <td>5</td>\n",
       "      <td>...</td>\n",
       "      <td>2.0</td>\n",
       "      <td>3.0</td>\n",
       "      <td>2.0</td>\n",
       "      <td>1.0</td>\n",
       "      <td>1.0</td>\n",
       "      <td>5.0</td>\n",
       "      <td>4.0</td>\n",
       "      <td>3.0</td>\n",
       "      <td>5.0</td>\n",
       "      <td>4.0</td>\n",
       "    </tr>\n",
       "    <tr>\n",
       "      <th>2</th>\n",
       "      <td>-1</td>\n",
       "      <td>3</td>\n",
       "      <td>2</td>\n",
       "      <td>3.0</td>\n",
       "      <td>1</td>\n",
       "      <td>4</td>\n",
       "      <td>1</td>\n",
       "      <td>2</td>\n",
       "      <td>3</td>\n",
       "      <td>5</td>\n",
       "      <td>...</td>\n",
       "      <td>3.0</td>\n",
       "      <td>3.0</td>\n",
       "      <td>1.0</td>\n",
       "      <td>0.0</td>\n",
       "      <td>1.0</td>\n",
       "      <td>4.0</td>\n",
       "      <td>4.0</td>\n",
       "      <td>3.0</td>\n",
       "      <td>5.0</td>\n",
       "      <td>2.0</td>\n",
       "    </tr>\n",
       "    <tr>\n",
       "      <th>3</th>\n",
       "      <td>2</td>\n",
       "      <td>4</td>\n",
       "      <td>2</td>\n",
       "      <td>2.0</td>\n",
       "      <td>4</td>\n",
       "      <td>2</td>\n",
       "      <td>5</td>\n",
       "      <td>2</td>\n",
       "      <td>1</td>\n",
       "      <td>2</td>\n",
       "      <td>...</td>\n",
       "      <td>2.0</td>\n",
       "      <td>2.0</td>\n",
       "      <td>2.0</td>\n",
       "      <td>0.0</td>\n",
       "      <td>1.0</td>\n",
       "      <td>3.0</td>\n",
       "      <td>4.0</td>\n",
       "      <td>2.0</td>\n",
       "      <td>3.0</td>\n",
       "      <td>3.0</td>\n",
       "    </tr>\n",
       "    <tr>\n",
       "      <th>4</th>\n",
       "      <td>-1</td>\n",
       "      <td>3</td>\n",
       "      <td>1</td>\n",
       "      <td>5.0</td>\n",
       "      <td>4</td>\n",
       "      <td>3</td>\n",
       "      <td>4</td>\n",
       "      <td>1</td>\n",
       "      <td>3</td>\n",
       "      <td>2</td>\n",
       "      <td>...</td>\n",
       "      <td>2.0</td>\n",
       "      <td>4.0</td>\n",
       "      <td>2.0</td>\n",
       "      <td>1.0</td>\n",
       "      <td>2.0</td>\n",
       "      <td>3.0</td>\n",
       "      <td>3.0</td>\n",
       "      <td>4.0</td>\n",
       "      <td>6.0</td>\n",
       "      <td>5.0</td>\n",
       "    </tr>\n",
       "  </tbody>\n",
       "</table>\n",
       "<p>5 rows × 85 columns</p>\n",
       "</div>"
      ],
      "text/plain": [
       "   AGER_TYP  ALTERSKATEGORIE_GROB  ANREDE_KZ  CJT_GESAMTTYP  \\\n",
       "0        -1                     2          1            2.0   \n",
       "1        -1                     1          2            5.0   \n",
       "2        -1                     3          2            3.0   \n",
       "3         2                     4          2            2.0   \n",
       "4        -1                     3          1            5.0   \n",
       "\n",
       "   FINANZ_MINIMALIST  FINANZ_SPARER  FINANZ_VORSORGER  FINANZ_ANLEGER  \\\n",
       "0                  3              4                 3               5   \n",
       "1                  1              5                 2               5   \n",
       "2                  1              4                 1               2   \n",
       "3                  4              2                 5               2   \n",
       "4                  4              3                 4               1   \n",
       "\n",
       "   FINANZ_UNAUFFAELLIGER  FINANZ_HAUSBAUER    ...     PLZ8_ANTG1  PLZ8_ANTG2  \\\n",
       "0                      5                 3    ...            NaN         NaN   \n",
       "1                      4                 5    ...            2.0         3.0   \n",
       "2                      3                 5    ...            3.0         3.0   \n",
       "3                      1                 2    ...            2.0         2.0   \n",
       "4                      3                 2    ...            2.0         4.0   \n",
       "\n",
       "   PLZ8_ANTG3  PLZ8_ANTG4  PLZ8_BAUMAX  PLZ8_HHZ  PLZ8_GBZ  ARBEIT  \\\n",
       "0         NaN         NaN          NaN       NaN       NaN     NaN   \n",
       "1         2.0         1.0          1.0       5.0       4.0     3.0   \n",
       "2         1.0         0.0          1.0       4.0       4.0     3.0   \n",
       "3         2.0         0.0          1.0       3.0       4.0     2.0   \n",
       "4         2.0         1.0          2.0       3.0       3.0     4.0   \n",
       "\n",
       "   ORTSGR_KLS9  RELAT_AB  \n",
       "0          NaN       NaN  \n",
       "1          5.0       4.0  \n",
       "2          5.0       2.0  \n",
       "3          3.0       3.0  \n",
       "4          6.0       5.0  \n",
       "\n",
       "[5 rows x 85 columns]"
      ]
     },
     "metadata": {},
     "output_type": "display_data"
    },
    {
     "data": {
      "text/html": [
       "<div>\n",
       "<style scoped>\n",
       "    .dataframe tbody tr th:only-of-type {\n",
       "        vertical-align: middle;\n",
       "    }\n",
       "\n",
       "    .dataframe tbody tr th {\n",
       "        vertical-align: top;\n",
       "    }\n",
       "\n",
       "    .dataframe thead th {\n",
       "        text-align: right;\n",
       "    }\n",
       "</style>\n",
       "<table border=\"1\" class=\"dataframe\">\n",
       "  <thead>\n",
       "    <tr style=\"text-align: right;\">\n",
       "      <th></th>\n",
       "      <th>attribute</th>\n",
       "      <th>information_level</th>\n",
       "      <th>type</th>\n",
       "      <th>missing_or_unknown</th>\n",
       "    </tr>\n",
       "  </thead>\n",
       "  <tbody>\n",
       "    <tr>\n",
       "      <th>0</th>\n",
       "      <td>AGER_TYP</td>\n",
       "      <td>person</td>\n",
       "      <td>categorical</td>\n",
       "      <td>[-1,0]</td>\n",
       "    </tr>\n",
       "    <tr>\n",
       "      <th>1</th>\n",
       "      <td>ALTERSKATEGORIE_GROB</td>\n",
       "      <td>person</td>\n",
       "      <td>ordinal</td>\n",
       "      <td>[-1,0,9]</td>\n",
       "    </tr>\n",
       "    <tr>\n",
       "      <th>2</th>\n",
       "      <td>ANREDE_KZ</td>\n",
       "      <td>person</td>\n",
       "      <td>categorical</td>\n",
       "      <td>[-1,0]</td>\n",
       "    </tr>\n",
       "    <tr>\n",
       "      <th>3</th>\n",
       "      <td>CJT_GESAMTTYP</td>\n",
       "      <td>person</td>\n",
       "      <td>categorical</td>\n",
       "      <td>[0]</td>\n",
       "    </tr>\n",
       "    <tr>\n",
       "      <th>4</th>\n",
       "      <td>FINANZ_MINIMALIST</td>\n",
       "      <td>person</td>\n",
       "      <td>ordinal</td>\n",
       "      <td>[-1]</td>\n",
       "    </tr>\n",
       "  </tbody>\n",
       "</table>\n",
       "</div>"
      ],
      "text/plain": [
       "              attribute information_level         type missing_or_unknown\n",
       "0              AGER_TYP            person  categorical             [-1,0]\n",
       "1  ALTERSKATEGORIE_GROB            person      ordinal           [-1,0,9]\n",
       "2             ANREDE_KZ            person  categorical             [-1,0]\n",
       "3         CJT_GESAMTTYP            person  categorical                [0]\n",
       "4     FINANZ_MINIMALIST            person      ordinal               [-1]"
      ]
     },
     "metadata": {},
     "output_type": "display_data"
    }
   ],
   "source": [
    "# Check the structure of the data after it's loaded (e.g. print the number of\n",
    "# rows and columns, print the first few rows).\n",
    "azdias_rows = azdias.shape[0]\n",
    "print('azdias shape', azdias.shape)\n",
    "print('feat_info shape', feat_info.shape)\n",
    "display(azdias.head(5))\n",
    "display(feat_info.head(5))\n"
   ]
  },
  {
   "cell_type": "markdown",
   "metadata": {},
   "source": [
    "> **Tip**: Add additional cells to keep everything in reasonably-sized chunks! Keyboard shortcut `esc --> a` (press escape to enter command mode, then press the 'A' key) adds a new cell before the active cell, and `esc --> b` adds a new cell after the active cell. If you need to convert an active cell to a markdown cell, use `esc --> m` and to convert to a code cell, use `esc --> y`. \n",
    "\n",
    "## Step 1: Preprocessing\n",
    "\n",
    "### Step 1.1: Assess Missing Data\n",
    "\n",
    "The feature summary file contains a summary of properties for each demographics data column. You will use this file to help you make cleaning decisions during this stage of the project. First of all, you should assess the demographics data in terms of missing data. Pay attention to the following points as you perform your analysis, and take notes on what you observe. Make sure that you fill in the **Discussion** cell with your findings and decisions at the end of each step that has one!\n",
    "\n",
    "#### Step 1.1.1: Convert Missing Value Codes to NaNs\n",
    "The fourth column of the feature attributes summary (loaded in above as `feat_info`) documents the codes from the data dictionary that indicate missing or unknown data. While the file encodes this as a list (e.g. `[-1,0]`), this will get read in as a string object. You'll need to do a little bit of parsing to make use of it to identify and clean the data. Convert data that matches a 'missing' or 'unknown' value code into a numpy NaN value. You might want to see how much data takes on a 'missing' or 'unknown' code, and how much data is naturally missing, as a point of interest.\n",
    "\n",
    "**As one more reminder, you are encouraged to add additional cells to break up your analysis into manageable chunks.**"
   ]
  },
  {
   "cell_type": "code",
   "execution_count": 4,
   "metadata": {},
   "outputs": [],
   "source": [
    "# Identify missing or unknown data values and convert them to NaNs.\n",
    "\n",
    "# Data missing to begin with\n",
    "azdias_missing_original = azdias.isna().sum()"
   ]
  },
  {
   "cell_type": "code",
   "execution_count": 5,
   "metadata": {},
   "outputs": [
    {
     "data": {
      "text/plain": [
       "array(['[-1,0]', '[-1,0,9]', '[0]', '[-1]', '[]', '[-1,9]', '[-1,X]',\n",
       "       '[XX]', '[-1,XX]'], dtype=object)"
      ]
     },
     "execution_count": 5,
     "metadata": {},
     "output_type": "execute_result"
    }
   ],
   "source": [
    "# List out the unique values for missing_or_unknown across features\n",
    "feat_info.missing_or_unknown.unique()"
   ]
  },
  {
   "cell_type": "code",
   "execution_count": 6,
   "metadata": {},
   "outputs": [],
   "source": [
    "# Convert the missing_unknown column in feature summary\n",
    "# to a series of lists\n",
    "# Some values in the feature summary e.g. '[-1,XX]' need \n",
    "# special treatment before creating the lists\n",
    "def missing_unknown_to_list(in_str):\n",
    "    '''\n",
    "    This function takes in a list represented as a string, updates\n",
    "    the non-numer characters to include quotes and returns the actual list\n",
    "    INPUT: list represented as a string\n",
    "    OUTPUT: the corresponding list after fixing the format\n",
    "    '''\n",
    "    if 'XX' in in_str:\n",
    "        in_str = in_str.replace('XX', '\"XX\"')\n",
    "    elif 'X' in in_str:\n",
    "        in_str = in_str.replace('X', '\"X\"')\n",
    "    return ast.literal_eval(in_str)\n"
   ]
  },
  {
   "cell_type": "code",
   "execution_count": 7,
   "metadata": {},
   "outputs": [],
   "source": [
    "# For each column, replace the missing/unknown list values with NaN\n",
    "def replace_missing_unknown(df):\n",
    "    '''\n",
    "    This function replaces the missing and unknown categories with NaN\n",
    "    INPUT: The dataframe for which the missing and unknown categories \n",
    "            need to be placed\n",
    "    OUTPUT: The dataframe after replacing the missing and unknown categories\n",
    "            for each feature with NaN\n",
    "    '''    \n",
    "    missing_unknown_list = feat_info.missing_or_unknown.map(missing_unknown_to_list)\n",
    "    for col_idx, col_name in enumerate(df.columns):\n",
    "        mu = missing_unknown_list[col_idx]\n",
    "        df.loc[df[col_name].isin(mu), col_name] = np.nan\n",
    "    return df\n",
    "\n",
    "azdias = replace_missing_unknown(azdias)"
   ]
  },
  {
   "cell_type": "markdown",
   "metadata": {},
   "source": [
    "#### Step 1.1.2: Assess Missing Data in Each Column\n",
    "\n",
    "How much missing data is present in each column? There are a few columns that are outliers in terms of the proportion of values that are missing. You will want to use matplotlib's [`hist()`](https://matplotlib.org/api/_as_gen/matplotlib.pyplot.hist.html) function to visualize the distribution of missing value counts to find these columns. Identify and document these columns. While some of these columns might have justifications for keeping or re-encoding the data, for this project you should just remove them from the dataframe. (Feel free to make remarks about these outlier columns in the discussion, however!)\n",
    "\n",
    "For the remaining features, are there any patterns in which columns have, or share, missing data?"
   ]
  },
  {
   "cell_type": "code",
   "execution_count": 8,
   "metadata": {},
   "outputs": [
    {
     "data": {
      "text/plain": [
       "<Container object of 85 artists>"
      ]
     },
     "execution_count": 8,
     "metadata": {},
     "output_type": "execute_result"
    },
    {
     "data": {
      "image/png": "[encoded data removed]",
      "text/plain": [
       "<matplotlib.figure.Figure at 0x7ffa2d383cf8>"
      ]
     },
     "metadata": {
      "needs_background": "light"
     },
     "output_type": "display_data"
    }
   ],
   "source": [
    "# Perform an assessment of how much missing data there is in each column of the\n",
    "# dataset.\n",
    "#plot of how much data is missing originally\n",
    "plt.figure(figsize=(16,9))\n",
    "plt.xticks(rotation='vertical')\n",
    "plt.title('Count of values missing per feature originally')\n",
    "plt.bar(x=azdias_missing_original.index.values, height=azdias_missing_original.values)"
   ]
  },
  {
   "cell_type": "code",
   "execution_count": 9,
   "metadata": {},
   "outputs": [
    {
     "data": {
      "text/plain": [
       "<Container object of 85 artists>"
      ]
     },
     "execution_count": 9,
     "metadata": {},
     "output_type": "execute_result"
    },
    {
     "data": {
      "image/png": "[encoded data removed]",
      "text/plain": [
       "<matplotlib.figure.Figure at 0x7ffa2b2df588>"
      ]
     },
     "metadata": {
      "needs_background": "light"
     },
     "output_type": "display_data"
    }
   ],
   "source": [
    "#plot of how much data is missing after replacing\n",
    "# missing/unknown values with NaNs \n",
    "plt.figure(figsize=(16,9))\n",
    "plt.xticks(rotation='vertical')\n",
    "plt.title('Count of values missing per feature after replacing missing/unknowns categories with NaN')\n",
    "plt.bar(x=azdias.columns.values, height=azdias.isna().sum().values)"
   ]
  },
  {
   "cell_type": "code",
   "execution_count": 10,
   "metadata": {},
   "outputs": [
    {
     "name": "stdout",
     "output_type": "stream",
     "text": [
      "Index(['AGER_TYP', 'GEBURTSJAHR', 'HEALTH_TYP', 'LP_LEBENSPHASE_FEIN',\n",
      "       'LP_LEBENSPHASE_GROB', 'LP_FAMILIE_FEIN', 'LP_FAMILIE_GROB',\n",
      "       'NATIONALITAET_KZ', 'PRAEGENDE_JUGENDJAHRE', 'SHOPPER_TYP', 'SOHO_KZ',\n",
      "       'TITEL_KZ', 'VERS_TYP', 'ALTER_HH', 'ANZ_PERSONEN', 'ANZ_TITEL',\n",
      "       'KK_KUNDENTYP', 'W_KEIT_KIND_HH', 'WOHNDAUER_2008',\n",
      "       'ANZ_HAUSHALTE_AKTIV', 'ANZ_HH_TITEL', 'GEBAEUDETYP', 'KONSUMNAEHE',\n",
      "       'MIN_GEBAEUDEJAHR', 'OST_WEST_KZ', 'WOHNLAGE', 'CAMEO_DEUG_2015',\n",
      "       'CAMEO_DEU_2015', 'CAMEO_INTL_2015', 'KBA05_ANTG1', 'KBA05_ANTG2',\n",
      "       'KBA05_ANTG3', 'KBA05_ANTG4', 'KBA05_BAUMAX', 'KBA05_GBZ', 'BALLRAUM',\n",
      "       'EWDICHTE', 'INNENSTADT', 'GEBAEUDETYP_RASTER', 'KKK', 'MOBI_REGIO',\n",
      "       'REGIOTYP', 'KBA13_ANZAHL_PKW', 'PLZ8_ANTG1', 'PLZ8_ANTG2',\n",
      "       'PLZ8_ANTG3', 'PLZ8_ANTG4', 'PLZ8_BAUMAX', 'PLZ8_HHZ', 'PLZ8_GBZ',\n",
      "       'ARBEIT', 'ORTSGR_KLS9', 'RELAT_AB'],\n",
      "      dtype='object')\n"
     ]
    }
   ],
   "source": [
    "# Investigate patterns in the amount of missing data in each column.\n",
    "\n",
    "# Analyzing columns which have more than 5% missing data\n",
    "nan_cols = azdias.columns[azdias.isna().sum() > len(azdias)*0.05]\n",
    "print(nan_cols)\n",
    "\n",
    "# remaining columns\n",
    "rem_cols = list(set(azdias.columns) - set(nan_cols))"
   ]
  },
  {
   "cell_type": "code",
   "execution_count": 11,
   "metadata": {},
   "outputs": [
    {
     "name": "stdout",
     "output_type": "stream",
     "text": [
      "0.87395921436\n",
      "SEMIO_REL     0.099887\n",
      "SEMIO_VERT    0.080742\n",
      "SEMIO_ERL     0.067506\n",
      "SEMIO_KULT    0.064005\n",
      "dtype: float64\n"
     ]
    }
   ],
   "source": [
    "# For each column from the nan_cols seperate the data into two sets.\n",
    "# First set has rows which have that feature missing but all the features in rem_cols are present.\n",
    "# The second has rows in which both the rem_cols and the column of interest have valid data\n",
    "# Treating the features in rem_cols as independent variables and the columns of interest as \n",
    "# Dependent variable, see which features in rem_cols can predict when the data in the column of \n",
    "# interest is missing\n",
    "\n",
    "# The code below shows an example of this analysis carried out for the feature 'W_KEIT_KIND_HH'\n",
    "col = 'W_KEIT_KIND_HH'\n",
    "\n",
    "# rows in which the feature of interest, col, has NaNs but the remaining features, rem_cols,\n",
    "# have valid values\n",
    "df_missing = azdias[azdias[col].isna() & ~azdias[rem_cols].isna().any(axis=1)]\n",
    "\n",
    "# rows in which neither the feature of interest, col, nor the remaining features, rem_cols,\n",
    "# have NaNs\n",
    "df_not_missing = azdias[azdias[col].notna() & ~azdias[rem_cols].isna().any(axis=1)]\n",
    "\n",
    "# take equal number of both to have a fair representation\n",
    "num_rows = min(df_missing.shape[0], df_not_missing.shape[0])\n",
    "\n",
    "X = pd.concat([df_not_missing.sample(n=num_rows, random_state=42), df_missing.sample(n=num_rows, random_state=42)])\n",
    "\n",
    "# replace NaNs with 1 and valid values with 0, since we are trying to predict NaNs\n",
    "y = X[col].isna().astype(int)\n",
    "\n",
    "# Only retain the target column and independent variables i.e. rem_cols\n",
    "X = X.drop(columns=nan_cols)\n",
    "\n",
    "# Use RandomForest classifier to predict missing values in the feature of interest\n",
    "# based on other features\n",
    "X_train, X_test, y_train, y_test = train_test_split(X, y, test_size=0.2, random_state=42)\n",
    "clf = RandomForestClassifier(random_state=42)\n",
    "clf.fit(X_train, y_train)\n",
    "y_pred = clf.predict(X_test)\n",
    "print(accuracy_score(y_test, y_pred))\n",
    "fi = pd.Series(clf.feature_importances_, index=X_train.columns)\n",
    "# List the top four features of importance\n",
    "print(fi.sort_values(ascending=False).head(4))\n",
    "    "
   ]
  },
  {
   "cell_type": "code",
   "execution_count": 12,
   "metadata": {},
   "outputs": [
    {
     "name": "stdout",
     "output_type": "stream",
     "text": [
      "7.0    91049\n",
      "4.0    13882\n",
      "3.0     8697\n",
      "1.0     5875\n",
      "5.0     5082\n",
      "2.0     4782\n",
      "6.0     3645\n",
      "Name: SEMIO_REL, dtype: int64\n",
      "4.2406092316\n",
      "4.0    185601\n",
      "3.0    141146\n",
      "7.0    115995\n",
      "1.0     98397\n",
      "5.0     69801\n",
      "2.0     65721\n",
      "6.0     55649\n",
      "Name: SEMIO_REL, dtype: int64\n"
     ]
    }
   ],
   "source": [
    "# Confirm the feature importance\n",
    "# Categorize the missing and non-missing data by the features of importance to \n",
    "# look for patterns\n",
    "print(df_missing['SEMIO_REL'].value_counts())\n",
    "print(azdias['SEMIO_REL'].mean())\n",
    "print(df_not_missing['SEMIO_REL'].value_counts())\n",
    "# Below output shows the missing values are disprortionately higher for\n",
    "# individuals with lowest religious affinity of 7.0"
   ]
  },
  {
   "cell_type": "code",
   "execution_count": 13,
   "metadata": {},
   "outputs": [],
   "source": [
    "# Remove the outlier columns from the dataset. (You'll perform other data\n",
    "# engineering tasks such as re-encoding and imputation later.)\n",
    "\n",
    "def get_interquartiles(df):\n",
    "    '''\n",
    "    Get the first, third and interquartile range \n",
    "    Input: Dataframe for which to get the quartiles\n",
    "    '''\n",
    "    first_q = np.percentile(df.values, 25.0)\n",
    "    third_q = np.percentile(df.values, 75.0)\n",
    "    \n",
    "    return (first_q, third_q, third_q - first_q)"
   ]
  },
  {
   "cell_type": "code",
   "execution_count": 14,
   "metadata": {},
   "outputs": [
    {
     "name": "stdout",
     "output_type": "stream",
     "text": [
      "Inter quartile range: 116515.0\n",
      "Index(['AGER_TYP', 'GEBURTSJAHR', 'TITEL_KZ', 'ALTER_HH', 'KK_KUNDENTYP',\n",
      "       'KBA05_BAUMAX'],\n",
      "      dtype='object')\n",
      "(891221, 79)\n"
     ]
    }
   ],
   "source": [
    "# Identifying outliers columns as being \n",
    "# 1.5 interquartile ranges (IQRs) below the first quartile or above the third quartile\n",
    "_, third_quartile, iqr = get_interquartiles(azdias.isna().sum())\n",
    "print(f'Inter quartile range: {iqr}')\n",
    "\n",
    "missing_data_outlier_cols = azdias.columns[azdias.isna().sum() > (third_quartile + 1.5*iqr)]\n",
    "print(missing_data_outlier_cols)\n",
    "\n",
    "azdias = azdias.drop(columns=missing_data_outlier_cols)\n",
    "print(azdias.shape)"
   ]
  },
  {
   "cell_type": "markdown",
   "metadata": {},
   "source": [
    "#### Discussion 1.1.2: Assess Missing Data in Each Column\n",
    "\n",
    "53 columns had more than 5% of data missing.\n",
    "To identify the outlier columns with missing data, I calculated the Inter quartile range for missing values and used third quartile + 1.5 times the Inter quartile range as a basis to identify the outlier columns. This analysis helped identify 6 columns that were dropped. These were - 'AGER_TYP', 'GEBURTSJAHR', 'TITEL_KZ', 'ALTER_HH', 'KK_KUNDENTYP' and 'KBA05_BAUMAX'\n",
    "\n",
    "To identify patterns in missing data, I used the Random Forest classifier. \n",
    "I marked the NaN's in the column for which I'm trying to identify the pattern of missing data as 1, the target, and non NaN's as 0. Then I used the least frequently missing features in the data to train the random forest classifier to predict when the column of interest has NaNs. This yielded some interesting insights which I further verified in the sections below.\n",
    "\n",
    "Here are some patterns in the missing data:\n",
    "* NATIONALITAET_KZ, SHOPPER_TYP, VERS_TYP, HEALTH_TYP are all missing data for almost the same entries. Most of these missing values are for people with lowest religious affinity on the personality typology(SEMIO_REL)"
   ]
  },
  {
   "cell_type": "code",
   "execution_count": 15,
   "metadata": {},
   "outputs": [
    {
     "name": "stdout",
     "output_type": "stream",
     "text": [
      "Total missing values for NATIONALITAET_KZ:  108315\n",
      "Missing values with SEMIO_REL = 7:  101949\n"
     ]
    }
   ],
   "source": [
    "print('Total missing values for NATIONALITAET_KZ: ', azdias['NATIONALITAET_KZ'].isna().sum())\n",
    "print('Missing values with SEMIO_REL = 7: ', ((azdias['NATIONALITAET_KZ'].isna()) & (azdias['SEMIO_REL'] == 7.0)).sum())"
   ]
  },
  {
   "cell_type": "markdown",
   "metadata": {},
   "source": [
    "* SOHO_KZ, ANZ_PERSONEN, ANZ_TITEL, WOHNDAUER_2008 and KONSUMNAEHE are all missing data for the same entries. These entries also have same/very similar values for  all the Personality typology features (SEMIO_*), all the financial typology features (FINANZ_*), ZABEOTYP and HH_EINKOMMEN_SCORE. And in general, the building level features have missing data when the household income score is very high."
   ]
  },
  {
   "cell_type": "code",
   "execution_count": 16,
   "metadata": {},
   "outputs": [
    {
     "name": "stdout",
     "output_type": "stream",
     "text": [
      "Total missing values for SOHO_KZ:  73499\n",
      "Missing values with SEMIO_REL = 7:  73499\n",
      "Missing values with HH_EINKOMMEN_SCORE = 2:  73499\n"
     ]
    }
   ],
   "source": [
    "print('Total missing values for SOHO_KZ: ', azdias['SOHO_KZ'].isna().sum())\n",
    "print('Missing values with SEMIO_REL = 7: ', ((azdias['SOHO_KZ'].isna()) & (azdias['SEMIO_REL'] == 7.0)).sum())\n",
    "print('Missing values with HH_EINKOMMEN_SCORE = 2: ', ((azdias['SOHO_KZ'].isna()) & (azdias['HH_EINKOMMEN_SCORE'] == 2.0)).sum())"
   ]
  },
  {
   "cell_type": "markdown",
   "metadata": {},
   "source": [
    "* REGIOTYP, (neighborhood type) and KKK (purchasing power in region), appears to me missing for newer neighbourhoods (higher MIN_GEBAEUDEJAHR), perhaps because it's difficult to categorize them yet"
   ]
  },
  {
   "cell_type": "code",
   "execution_count": 17,
   "metadata": {},
   "outputs": [
    {
     "name": "stdout",
     "output_type": "stream",
     "text": [
      "Total missing values for REGIOTYP:  158064\n",
      "Mean value for MIN_GEBAEUDEJAHR:  1993.277011\n",
      "Mean value for MIN_GEBAEUDEJAHR not missing REGIOTYP:  1992.7786054\n",
      "Mean value for MIN_GEBAEUDEJAHR missing REGIOTYP:  1998.90597079\n"
     ]
    }
   ],
   "source": [
    "missing_regiotyp = azdias['REGIOTYP'].isna()\n",
    "print('Total missing values for REGIOTYP: ', missing_regiotyp.sum())\n",
    "print('Mean value for MIN_GEBAEUDEJAHR: ', azdias.MIN_GEBAEUDEJAHR.mean())\n",
    "print('Mean value for MIN_GEBAEUDEJAHR not missing REGIOTYP: ', azdias[~missing_regiotyp].MIN_GEBAEUDEJAHR.mean())\n",
    "print('Mean value for MIN_GEBAEUDEJAHR missing REGIOTYP: ', azdias[missing_regiotyp].MIN_GEBAEUDEJAHR.mean())"
   ]
  },
  {
   "cell_type": "markdown",
   "metadata": {},
   "source": [
    "* HEALTH_TYP data seems to be missing more often for people with low religious affinity, SEMIO_REL"
   ]
  },
  {
   "cell_type": "code",
   "execution_count": 18,
   "metadata": {},
   "outputs": [
    {
     "name": "stdout",
     "output_type": "stream",
     "text": [
      "Total missing values for HEALTH_TYP:  111196\n",
      "Missing values with SEMIO_REL = 7:  103730\n"
     ]
    }
   ],
   "source": [
    "print('Total missing values for HEALTH_TYP: ', azdias['HEALTH_TYP'].isna().sum())\n",
    "print('Missing values with SEMIO_REL = 7: ', ((azdias['HEALTH_TYP'].isna()) & (azdias['SEMIO_REL'] == 7.0)).sum())"
   ]
  },
  {
   "cell_type": "markdown",
   "metadata": {},
   "source": [
    "* NATIONALITAET_KZ data seems to be missing more commonly for people with low religious affinity, SEMIO_REL"
   ]
  },
  {
   "cell_type": "code",
   "execution_count": 19,
   "metadata": {},
   "outputs": [
    {
     "name": "stdout",
     "output_type": "stream",
     "text": [
      "Total missing values for NATIONALITAET_KZ:  108315\n",
      "Missing values with SEMIO_REL = 7:  101949\n"
     ]
    }
   ],
   "source": [
    "print('Total missing values for NATIONALITAET_KZ: ', azdias['NATIONALITAET_KZ'].isna().sum())\n",
    "print('Missing values with SEMIO_REL = 7: ', ((azdias['NATIONALITAET_KZ'].isna()) & (azdias['SEMIO_REL'] == 7.0)).sum())"
   ]
  },
  {
   "cell_type": "markdown",
   "metadata": {},
   "source": [
    "* data missing for PRAEGENDE_JUGENDJAHRE has a high overlap with data missing for NATIONALITAET_KZ. Also data is more often missing for PRAEGENDE_JUGENDJAHRE for individuals who rank lower on the investor scale (FINANZ_ANLEGER) and high affinity on the dreamful scale (SEMIO_VERT)"
   ]
  },
  {
   "cell_type": "code",
   "execution_count": 20,
   "metadata": {},
   "outputs": [
    {
     "name": "stdout",
     "output_type": "stream",
     "text": [
      "Total missing values for PRAEGENDE_JUGENDJAHRE:  108164\n",
      "Total missing values for NATIONALITAET_KZ:  108315\n",
      "Missing common data:  92690\n",
      "Missing values with FINANZ_ANLEGER = 5:  91702\n",
      "Missing values with SEMIO_VERT = 1:  79671\n"
     ]
    }
   ],
   "source": [
    "print('Total missing values for PRAEGENDE_JUGENDJAHRE: ', azdias['PRAEGENDE_JUGENDJAHRE'].isna().sum())\n",
    "print('Total missing values for NATIONALITAET_KZ: ', azdias['NATIONALITAET_KZ'].isna().sum())\n",
    "print('Missing common data: ', (azdias['PRAEGENDE_JUGENDJAHRE'].isna() & azdias['NATIONALITAET_KZ'].isna()).sum())\n",
    "\n",
    "print('Missing values with FINANZ_ANLEGER = 5: ', ((azdias['PRAEGENDE_JUGENDJAHRE'].isna()) & (azdias['FINANZ_ANLEGER'] == 5.0)).sum())\n",
    "print('Missing values with SEMIO_VERT = 1: ', ((azdias['PRAEGENDE_JUGENDJAHRE'].isna()) & (azdias['SEMIO_VERT'] == 1.0)).sum())"
   ]
  },
  {
   "cell_type": "markdown",
   "metadata": {},
   "source": [
    "* SHOPPER_TYP and VERS_TYP features have more missing data for people with low religios affinity, SEMIO_REL"
   ]
  },
  {
   "cell_type": "code",
   "execution_count": 21,
   "metadata": {},
   "outputs": [
    {
     "name": "stdout",
     "output_type": "stream",
     "text": [
      "Total missing values for SHOPPER_TYP:  111196\n",
      "Missing values with SEMIO_REL = 7:  103730\n"
     ]
    }
   ],
   "source": [
    "print('Total missing values for SHOPPER_TYP: ', azdias['SHOPPER_TYP'].isna().sum())\n",
    "print('Missing values with SEMIO_REL = 7: ', ((azdias['SHOPPER_TYP'].isna()) & (azdias['SEMIO_REL'] == 7.0)).sum())"
   ]
  },
  {
   "cell_type": "markdown",
   "metadata": {},
   "source": [
    "* ANZ_PERSONEN, the number of adults in the household seems to be missing data when the individuals have a higher affinity on dreamful nature, SEMIO_VERT."
   ]
  },
  {
   "cell_type": "code",
   "execution_count": 22,
   "metadata": {},
   "outputs": [
    {
     "name": "stdout",
     "output_type": "stream",
     "text": [
      "Total missing values for ANZ_PERSONEN:  73499\n",
      "Missing values with SEMIO_VERT = 1:  73499\n"
     ]
    }
   ],
   "source": [
    "print('Total missing values for ANZ_PERSONEN: ',azdias['ANZ_PERSONEN'].isna().sum())\n",
    "print('Missing values with SEMIO_VERT = 1: ',((azdias['ANZ_PERSONEN'].isna()) & (azdias['SEMIO_VERT'] == 1.0)).sum())"
   ]
  },
  {
   "cell_type": "markdown",
   "metadata": {},
   "source": [
    "* ANZ_HAUSHALTE_AKTIV and ANZ_HH_TITEL have more missing data for househols with very high income score (HH_EINKOMMEN_SCORE) and with the highest affinity on dreamful personal typology (SEMIO_VERT) and low on religios affinity"
   ]
  },
  {
   "cell_type": "code",
   "execution_count": 23,
   "metadata": {},
   "outputs": [
    {
     "name": "stdout",
     "output_type": "stream",
     "text": [
      "Total missing values for ANZ_HAUSHALTE_AKTIV:  99611\n",
      "Missing values with SEMIO_REL = 7:  76339\n",
      "Missing values with SEMIO_VERT = 1:  76234\n",
      "Missing values with HH_EINKOMMEN_SCORE = 2:  75726\n"
     ]
    }
   ],
   "source": [
    "print('Total missing values for ANZ_HAUSHALTE_AKTIV: ',azdias['ANZ_HAUSHALTE_AKTIV'].isna().sum())\n",
    "print('Missing values with SEMIO_REL = 7: ',((azdias['ANZ_HAUSHALTE_AKTIV'].isna()) & (azdias['SEMIO_REL'] == 7.0)).sum())\n",
    "print('Missing values with SEMIO_VERT = 1: ',((azdias['ANZ_HAUSHALTE_AKTIV'].isna()) & (azdias['SEMIO_VERT'] == 1.0)).sum())\n",
    "print('Missing values with HH_EINKOMMEN_SCORE = 2: ',((azdias['ANZ_HAUSHALTE_AKTIV'].isna()) & (azdias['HH_EINKOMMEN_SCORE'] == 2.0)).sum())"
   ]
  },
  {
   "cell_type": "markdown",
   "metadata": {},
   "source": [
    "#### Step 1.1.3: Assess Missing Data in Each Row\n",
    "\n",
    "Now, you'll perform a similar assessment for the rows of the dataset. How much data is missing in each row? As with the columns, you should see some groups of points that have a very different numbers of missing values. Divide the data into two subsets: one for data points that are above some threshold for missing values, and a second subset for points below that threshold.\n",
    "\n",
    "In order to know what to do with the outlier rows, we should see if the distribution of data values on columns that are not missing data (or are missing very little data) are similar or different between the two groups. Select at least five of these columns and compare the distribution of values.\n",
    "- You can use seaborn's [`countplot()`](https://seaborn.pydata.org/generated/seaborn.countplot.html) function to create a bar chart of code frequencies and matplotlib's [`subplot()`](https://matplotlib.org/api/_as_gen/matplotlib.pyplot.subplot.html) function to put bar charts for the two subplots side by side.\n",
    "- To reduce repeated code, you might want to write a function that can perform this comparison, taking as one of its arguments a column to be compared.\n",
    "\n",
    "Depending on what you observe in your comparison, this will have implications on how you approach your conclusions later in the analysis. If the distributions of non-missing features look similar between the data with many missing values and the data with few or no missing values, then we could argue that simply dropping those points from the analysis won't present a major issue. On the other hand, if the data with many missing values looks very different from the data with few or no missing values, then we should make a note on those data as special. We'll revisit these data later on. **Either way, you should continue your analysis for now using just the subset of the data with few or no missing values.**"
   ]
  },
  {
   "cell_type": "code",
   "execution_count": 24,
   "metadata": {},
   "outputs": [],
   "source": [
    "# How much data is missing in each row of the dataset?\n",
    "azdias_row_nan_counts = azdias.isna().sum(axis=1)"
   ]
  },
  {
   "cell_type": "code",
   "execution_count": 25,
   "metadata": {},
   "outputs": [
    {
     "name": "stdout",
     "output_type": "stream",
     "text": [
      "Inter quartile range: 3.0\n",
      "No. of Rows to be retained: 747109\n",
      "No. of Rows to be ignored: 144112\n"
     ]
    }
   ],
   "source": [
    "# Write code to divide the data into two subsets based on the number of missing\n",
    "# values in each row.\n",
    "# calculate the inter-quartile range\n",
    "# split the dataset based on 1.5* iqr + third quartile\n",
    "\n",
    "_, missing_rows_third_quartile, missing_rows_iqr = get_interquartiles(azdias.isna().sum(axis=1))\n",
    "\n",
    "print('Inter quartile range:', missing_rows_iqr)\n",
    "azdias_wo_missing_cols = azdias.loc[azdias_row_nan_counts <= (missing_rows_third_quartile + 1.5 * missing_rows_iqr)]\n",
    "azdias_w_missing_cols = azdias.loc[azdias_row_nan_counts > (missing_rows_third_quartile + 1.5 * missing_rows_iqr)]\n",
    "print('No. of Rows to be retained:', azdias_wo_missing_cols.shape[0])\n",
    "print('No. of Rows to be ignored:', azdias_w_missing_cols.shape[0])"
   ]
  },
  {
   "cell_type": "code",
   "execution_count": 26,
   "metadata": {},
   "outputs": [
    {
     "data": {
      "image/png": "[encoded data removed]",
      "text/plain": [
       "<matplotlib.figure.Figure at 0x7ffa2981e470>"
      ]
     },
     "metadata": {
      "needs_background": "light"
     },
     "output_type": "display_data"
    },
    {
     "data": {
      "image/png": "[encoded data removed]",
      "text/plain": [
       "<matplotlib.figure.Figure at 0x7ffa2966f860>"
      ]
     },
     "metadata": {
      "needs_background": "light"
     },
     "output_type": "display_data"
    },
    {
     "data": {
      "image/png": "[encoded data removed]",
      "text/plain": [
       "<matplotlib.figure.Figure at 0x7ffa2959f748>"
      ]
     },
     "metadata": {
      "needs_background": "light"
     },
     "output_type": "display_data"
    },
    {
     "data": {
      "image/png": "[encoded data removed]",
      "text/plain": [
       "<matplotlib.figure.Figure at 0x7ffa29652b70>"
      ]
     },
     "metadata": {
      "needs_background": "light"
     },
     "output_type": "display_data"
    },
    {
     "data": {
      "image/png": "[encoded data removed]",
      "text/plain": [
       "<matplotlib.figure.Figure at 0x7ffa294706a0>"
      ]
     },
     "metadata": {
      "needs_background": "light"
     },
     "output_type": "display_data"
    },
    {
     "data": {
      "image/png": "[encoded data removed]",
      "text/plain": [
       "<matplotlib.figure.Figure at 0x7ffa29413240>"
      ]
     },
     "metadata": {
      "needs_background": "light"
     },
     "output_type": "display_data"
    }
   ],
   "source": [
    "# Compare the distribution of values for at least five columns where there are\n",
    "# no or few missing values, between the two subsets.\n",
    "\n",
    "# using these six columns for comparision: \n",
    "# 'FINANZ_ANLEGER', 'GFK_URLAUBERTYP', 'LP_STATUS_GROB', 'SEMIO_VERT', 'SEMIO_MAT' and 'ONLINE_AFFINITAET'\n",
    "\n",
    "def compare_distribution(col):\n",
    "    '''\n",
    "    This function plots the value counts for a feature in the missing \n",
    "    and non-missing datasets side-by-side\n",
    "    INPUT: The column name in the dataset to plot\n",
    "    OUTPUT: None\n",
    "    '''\n",
    "    sample_size = 100000\n",
    "    plt.figure(figsize=(16,6))\n",
    "    plt.subplot(1,2,1)\n",
    "    plt.title(col +' Non Missing')\n",
    "    sns.countplot(azdias_wo_missing_cols[col].sample(sample_size))\n",
    "\n",
    "    plt.subplot(1,2,2)\n",
    "    plt.title(col +' Missing')\n",
    "    sns.countplot(azdias_w_missing_cols[col].sample(sample_size))\n",
    "\n",
    "cols = ['FINANZ_ANLEGER', 'GFK_URLAUBERTYP', 'LP_STATUS_GROB', 'SEMIO_VERT', 'SEMIO_MAT', 'ONLINE_AFFINITAET']\n",
    "for col in cols:\n",
    "    compare_distribution(col)"
   ]
  },
  {
   "cell_type": "code",
   "execution_count": 27,
   "metadata": {},
   "outputs": [],
   "source": [
    "def drop_rows_with_missing_data(df, third_quartile=None, iqr=None):\n",
    "    '''\n",
    "    This function drops the rows missing more values than the iqr\n",
    "    and the returns the resulting data frame\n",
    "    INPUT: df - the dataframe to drop the rows from\n",
    "           third_quartile - the third quartile for the data, calculated if not passed\n",
    "           iqr - the interquartile range, calculated if not passed \n",
    "    OUTPUT: dataframe without the rows containing more missing values than iqr\n",
    "    '''\n",
    "    if not iqr:\n",
    "        _, third_quartile, iqr = get_interquartiles(df.isna().sum(axis=1))\n",
    "    return df.loc[df.isna().sum(axis=1).values <= (third_quartile + 1.5 * iqr)]"
   ]
  },
  {
   "cell_type": "code",
   "execution_count": 28,
   "metadata": {},
   "outputs": [],
   "source": [
    "# saving a copy of the dataset with all rows, \n",
    "# and update the azdias dataframe to be the one with no (very few) missing columns\n",
    "azdias_all_rows = azdias.copy()\n",
    "azdias = drop_rows_with_missing_data(azdias)"
   ]
  },
  {
   "cell_type": "code",
   "execution_count": 29,
   "metadata": {},
   "outputs": [
    {
     "name": "stdout",
     "output_type": "stream",
     "text": [
      "(747109, 79)\n"
     ]
    }
   ],
   "source": [
    "print(azdias.shape)\n",
    "azdias_rows_dropped = azdias_rows - azdias.shape[0]"
   ]
  },
  {
   "cell_type": "markdown",
   "metadata": {},
   "source": [
    "#### Discussion 1.1.3: Assess Missing Data in Each Row\n",
    "\n",
    "To dentify rows with missing values, I used the same appraoch of 1.5 Inter quartile range above the third quartile as used above for columns. This appraoch yielded a cut-off value of 7.5 missing values per row.\n",
    "The dataset was split into two groups using this threshold value of 4.5 missing values per row. 144112 rows were dropped from the dataset based on this calculation, leaving 747109 rows in the dataset.\n",
    "\n",
    "The features that were used for comparing the distributions in the set with less missing values with the set with more missing values were 'FINANZ_ANLEGER', 'GFK_URLAUBERTYP', 'LP_STATUS_GROB', 'SEMIO_VERT', 'SEMIO_MAT' and 'ONLINE_AFFINITAET'.\n",
    "Except for the feature 'LP_STATUS_GROB', which has slightly similar distribution between the groups, the remaining 5 features\n",
    "had quite different distributions"
   ]
  },
  {
   "cell_type": "markdown",
   "metadata": {},
   "source": [
    "### Step 1.2: Select and Re-Encode Features\n",
    "\n",
    "Checking for missing data isn't the only way in which you can prepare a dataset for analysis. Since the unsupervised learning techniques to be used will only work on data that is encoded numerically, you need to make a few encoding changes or additional assumptions to be able to make progress. In addition, while almost all of the values in the dataset are encoded using numbers, not all of them represent numeric values. Check the third column of the feature summary (`feat_info`) for a summary of types of measurement.\n",
    "- For numeric and interval data, these features can be kept without changes.\n",
    "- Most of the variables in the dataset are ordinal in nature. While ordinal values may technically be non-linear in spacing, make the simplifying assumption that the ordinal variables can be treated as being interval in nature (that is, kept without any changes).\n",
    "- Special handling may be necessary for the remaining two variable types: categorical, and 'mixed'.\n",
    "\n",
    "In the first two parts of this sub-step, you will perform an investigation of the categorical and mixed-type features and make a decision on each of them, whether you will keep, drop, or re-encode each. Then, in the last part, you will create a new data frame with only the selected and engineered columns.\n",
    "\n",
    "Data wrangling is often the trickiest part of the data analysis process, and there's a lot of it to be done here. But stick with it: once you're done with this step, you'll be ready to get to the machine learning parts of the project!"
   ]
  },
  {
   "cell_type": "code",
   "execution_count": 30,
   "metadata": {},
   "outputs": [
    {
     "data": {
      "text/plain": [
       "ordinal        49\n",
       "categorical    21\n",
       "numeric         7\n",
       "mixed           7\n",
       "interval        1\n",
       "Name: type, dtype: int64"
      ]
     },
     "execution_count": 30,
     "metadata": {},
     "output_type": "execute_result"
    }
   ],
   "source": [
    "# How many features are there of each data type?\n",
    "feat_info.type.value_counts()"
   ]
  },
  {
   "cell_type": "markdown",
   "metadata": {},
   "source": [
    "#### Step 1.2.1: Re-Encode Categorical Features\n",
    "\n",
    "For categorical data, you would ordinarily need to encode the levels as dummy variables. Depending on the number of categories, perform one of the following:\n",
    "- For binary (two-level) categoricals that take numeric values, you can keep them without needing to do anything.\n",
    "- There is one binary variable that takes on non-numeric values. For this one, you need to re-encode the values as numbers or create a dummy variable.\n",
    "- For multi-level categoricals (three or more values), you can choose to encode the values using multiple dummy variables (e.g. via [OneHotEncoder](http://scikit-learn.org/stable/modules/generated/sklearn.preprocessing.OneHotEncoder.html)), or (to keep things straightforward) just drop them from the analysis. As always, document your choices in the Discussion section."
   ]
  },
  {
   "cell_type": "code",
   "execution_count": 31,
   "metadata": {},
   "outputs": [],
   "source": [
    "# Assess categorical variables: which are binary, which are multi-level, and\n",
    "# which one needs to be re-encoded?\n",
    "\n",
    "def re_encode_categorical_data(df):\n",
    "    '''\n",
    "    This function re-encodes the categorical variables in the dataframe passed\n",
    "    and returns the resulting dataframe\n",
    "    INPUT: The dataframe whose categorical features need to be re-encoded\n",
    "    OUTPUT: Dataframe with categorical features re-encoded\n",
    "    '''\n",
    "\n",
    "    # CAMEO_DEU_2015 adds over forty features if one-hot encoded and besides the dataset has the \n",
    "    # Wealth / Life Stage Typology at a less detailed level in the feature CAMEO_DEUG_2015, so\n",
    "    # I'll drop the CAMEO_DEU_2015 from the dataset\n",
    "    # LP_FAMILIE_* and LP_STATUS_* have a fine and a broad scale, for these features since the \n",
    "    # fine scale doesnt add too many categories compared to the broad, I'll keep the fine scale and\n",
    "    # discard the broad scale\n",
    "\n",
    "    df.drop(columns=['LP_FAMILIE_GROB', 'LP_STATUS_GROB', 'CAMEO_DEU_2015'], inplace=True)\n",
    "\n",
    "    # For the feature GEBAEUDETYP, there are very few entries in category 5 (1) and category 6 (628).\n",
    "    # Category 5 can be discarded and category 6 can be combined with category 4\n",
    "    df.drop(df[df.GEBAEUDETYP == 5].index, inplace=True)\n",
    "    df.loc[df.GEBAEUDETYP == 6, 'GEBAEUDETYP'] = 4\n",
    "\n",
    "    # Identify the categorical columns\n",
    "    categorical_cols = feat_info[feat_info.type == 'categorical'].attribute.values\n",
    "\n",
    "    # Find the remaining categorical columns which need to be encoded\n",
    "    encode_cols = []\n",
    "    for col in categorical_cols:\n",
    "        if col not in df.columns:\n",
    "            # we dropped some columns already\n",
    "            continue\n",
    "        if (len(df[col].dropna().unique()) != 2) | (df[col].dropna().unique().dtype == 'object'):\n",
    "            encode_cols.append(col)\n",
    "\n",
    "    return pd.get_dummies(df, columns=encode_cols, drop_first=True)"
   ]
  },
  {
   "cell_type": "code",
   "execution_count": 32,
   "metadata": {},
   "outputs": [
    {
     "name": "stdout",
     "output_type": "stream",
     "text": [
      "(747108, 128)\n"
     ]
    }
   ],
   "source": [
    "# Dummy encode the categorical variable(s) to be kept in the analysis.\n",
    "azdias = re_encode_categorical_data(azdias)\n",
    "print(azdias.shape)"
   ]
  },
  {
   "cell_type": "markdown",
   "metadata": {},
   "source": [
    "#### Discussion 1.2.1: Re-Encode Categorical Features\n",
    "\n",
    "CAMEO_DEU_2015 adds over forty features if one-hot encoded and besides the dataset has the Wealth / Life Stage Typology at a less detailed level in the feature CAMEO_DEUG_2015, so I dropped CAMEO_DEU_2015 from the dataset.\n",
    "\n",
    "Of the remaining categorical features, these are the ones that have been encoded using the one-hot encoder - 'CJT_GESAMTTYP', 'FINANZTYP', 'GFK_URLAUBERTYP', 'LP_FAMILIE_FEIN', 'LP_FAMILIE_GROB', 'LP_STATUS_FEIN', 'LP_STATUS_GROB', 'NATIONALITAET_KZ', 'SHOPPER_TYP', 'ZABEOTYP', 'GEBAEUDETYP', 'OST_WEST_KZ', 'CAMEO_DEUG_2015'.\n",
    "\n",
    "For the feature GEBAEUDETYP, there are very few entries in category 5 (1) and category 6 (628). Category 5 can be discarded and category 6 can be combined with category 4\n",
    "\n",
    "This results in 49 new features being created.\n"
   ]
  },
  {
   "cell_type": "markdown",
   "metadata": {},
   "source": [
    "#### Step 1.2.2: Engineer Mixed-Type Features\n",
    "\n",
    "There are a handful of features that are marked as \"mixed\" in the feature summary that require special treatment in order to be included in the analysis. There are two in particular that deserve attention; the handling of the rest are up to your own choices:\n",
    "- \"PRAEGENDE_JUGENDJAHRE\" combines information on three dimensions: generation by decade, movement (mainstream vs. avantgarde), and nation (east vs. west). While there aren't enough levels to disentangle east from west, you should create two new variables to capture the other two dimensions: an interval-type variable for decade, and a binary variable for movement.\n",
    "- \"CAMEO_INTL_2015\" combines information on two axes: wealth and life stage. Break up the two-digit codes by their 'tens'-place and 'ones'-place digits into two new ordinal variables (which, for the purposes of this project, is equivalent to just treating them as their raw numeric values).\n",
    "- If you decide to keep or engineer new features around the other mixed-type features, make sure you note your steps in the Discussion section.\n",
    "\n",
    "Be sure to check `Data_Dictionary.md` for the details needed to finish these tasks."
   ]
  },
  {
   "cell_type": "code",
   "execution_count": 33,
   "metadata": {},
   "outputs": [],
   "source": [
    "def engineer_praegende_jugendjahre(df):\n",
    "    '''\n",
    "    This function converts PRAEGENDE_JUGENDJAHRE into two new features\n",
    "    YOUTH_DECADE and YOUTH_MOVEMENT and drops the original feature\n",
    "    INPUT: The dataframe containing the feature PRAEGENDE_JUGENDJAHRE\n",
    "    OUTPUT: The dataframe with the replaced features\n",
    "    '''\n",
    "    # Investigate \"PRAEGENDE_JUGENDJAHRE\" and engineer two new variables.\n",
    "    # create a YOUTH_DECADE feature with values 1-6 corresponding to 40s-90s\n",
    "    decade_map = {1:1, 2:1, 3:2, 4:2, 5:3, 6:3, 7:3, 8:4, 9:4, 10:5, 11:5, 12:5, 13:5, 14:6, 15:6}\n",
    "    # create a YOUTH_MOVEMENT feature with values 0/1 corresponding to Mainstream/Avantgarde\n",
    "    movement_map ={1:0, 3:0, 5:0, 8:0, 10:0, 12:0, 14:0, 2:1, 4:1, 6:1, 7:1, 9:1, 11:1, 13:1, 15:1}\n",
    "\n",
    "    df['YOUTH_DECADE'] = df['PRAEGENDE_JUGENDJAHRE'].map(decade_map)\n",
    "    df['YOUTH_MOVEMENT'] = df['PRAEGENDE_JUGENDJAHRE'].map(movement_map)\n",
    "\n",
    "    # drop the original column\n",
    "    df.drop(columns='PRAEGENDE_JUGENDJAHRE', inplace=True)\n",
    "    return df"
   ]
  },
  {
   "cell_type": "code",
   "execution_count": 34,
   "metadata": {},
   "outputs": [],
   "source": [
    "# Investigate \"CAMEO_INTL_2015\" and engineer two new variables\n",
    "def engineer_cameo_intl_2015(df):\n",
    "    '''\n",
    "    This function converts CAMEO_INTL_2015 into two new features\n",
    "    CAMEO_WEALTH and CAMEO_LIFESTAGE and drops the original feature\n",
    "    INPUT: The dataframe containing the feature CAMEO_INTL_2015\n",
    "    OUTPUT: The dataframe with the replaced features\n",
    "    '''\n",
    "    # creating two new featres CAMEO_WEALTH and CAMEO_LIFESTAGE from CAMEO_INTL_2015\n",
    "    def cameo_intl_2015_to_wealth(x):\n",
    "        if not pd.isnull(x):\n",
    "            return int(x)//10\n",
    "        return x\n",
    "\n",
    "    # create a CAMEO_WEALTH feature with values 1-5 \n",
    "    df['CAMEO_WEALTH'] = df['CAMEO_INTL_2015'].map(cameo_intl_2015_to_wealth)\n",
    "\n",
    "    def cameo_intl_2015_to_lifestage(x):\n",
    "        if not pd.isnull(x):\n",
    "            return int(x)%10\n",
    "        return x\n",
    "\n",
    "    # create a CAMEO_LIFESTAGE feature with values 1-5\n",
    "    df['CAMEO_LIFESTAGE'] = df['CAMEO_INTL_2015'].map(cameo_intl_2015_to_lifestage)\n",
    "\n",
    "    # drop the original column\n",
    "    df.drop(columns='CAMEO_INTL_2015', inplace=True)\n",
    "    \n",
    "    return df"
   ]
  },
  {
   "cell_type": "code",
   "execution_count": 35,
   "metadata": {},
   "outputs": [],
   "source": [
    "def engineer_wohnlage(df):\n",
    "    # WOHNLAGE feature is a mized feature as it includes the neighborhood quality\n",
    "    # along with a 'rural' flag\n",
    "    # As the number of entries with the rural flag is very low, combining these \n",
    "    # with the rural neighborhood entries\n",
    "    # This in essence convers it from a mixed feature to numerical feature \n",
    "    df.loc[azdias.WOHNLAGE == 8.0, 'WOHNLAGE'] = 7.0\n",
    "    return df"
   ]
  },
  {
   "cell_type": "code",
   "execution_count": 36,
   "metadata": {},
   "outputs": [],
   "source": [
    "def engineer_lp_lebensphase_fein(df):\n",
    "    '''\n",
    "    This function converts LP_LEBENSPHASE_FEIN into three new features\n",
    "    LP_LEBENSPHASE_AGE, LP_LEBENSPHASE_INCOME and LP_LEBENSPHASE_STATUS and the original feature.\n",
    "    LP_LEBENSPHASE_STATUS is further converted into a categorical feature and dummy encoded\n",
    "    into 5 categories\n",
    "    INPUT: The dataframe containing the feature LP_LEBENSPHASE_FEIN\n",
    "    OUTPUT: The dataframe with the replaced features\n",
    "    '''    \n",
    "    # Split LP_LEBENSPHASE_FEIN into three features \n",
    "    # LP_LEBENSPHASE_AGE with range 1-5 with 1 being younger age and 5 retirement age\n",
    "    # LP_LEBENSPHASE_INCOME with range 1-5 with 1 being low income and 5 top earners\n",
    "    # LP_LEBENSPHASE_STATUS which will be converted to a categorical feature and dummy encoded\n",
    "    # The categories for LP_LEBENSPHASE_STATUS will be 1 - single, 2 - couple, \n",
    "    # 3 - single_parent, 4 - family, 5 - multiperson_hh\n",
    "\n",
    "    age_map = { 1:1,3:1,14:1,18:1,29:1,30:1,33:1,34:1,35:1,\n",
    "                2:2,4:2,10:2,39:2,17:2,21:2,22:2,23:2,24:2,25:2,26:2,27:2,28:2,\n",
    "                5:3,7:3,9:3,11:3,37:3,                                                                                      \n",
    "                13:4,15:4,16:4,19:4,20:4,31:4,32:4,36:4,\n",
    "                6:5,8:5,12:5,38:5,40:5 }\n",
    "\n",
    "    df['LP_LEBENSPHASE_AGE'] = df['LP_LEBENSPHASE_FEIN'].map(age_map)\n",
    "\n",
    "    income_map =  { 1:1,2:1,5:1,6:1,15:1,21:1,24:1,29:1,31:1,\n",
    "                    3:2,4:2,7:2,8:2,14:2,16:2,22:2,25:2,30:2,32:2,\n",
    "                    10:3,11:3,12:3,18:3,19:3,23:3,27:3,34:3,37:3,38:3,\n",
    "                    9:4,17:4,26:4,33:4,36:4,\n",
    "                    13:5,20:5,28:5,35:5,39:5,40:5 }\n",
    "\n",
    "    df['LP_LEBENSPHASE_INCOME'] = df['LP_LEBENSPHASE_FEIN'].map(income_map)\n",
    "\n",
    "    def lp_lebenphase_status(x):\n",
    "        if pd.isnull(x):\n",
    "            return x\n",
    "        if 1 <= x <= 13:\n",
    "            return 1\n",
    "        elif 14 <= x <= 20:\n",
    "            return 2\n",
    "        elif 21 <= x <= 23:\n",
    "            return 3\n",
    "        elif 24 <= x <= 28:\n",
    "            return 4\n",
    "        else:\n",
    "            return 5\n",
    "    \n",
    "    # create a LP_LEBENSPHASE_STATUS feature with values 1-5 \n",
    "    df['LP_LEBENSPHASE_STATUS'] = df['LP_LEBENSPHASE_FEIN'].map(lp_lebenphase_status)\n",
    "\n",
    "    # dummy encode this feature to convert it into categorical\n",
    "    df = pd.get_dummies(df, columns=['LP_LEBENSPHASE_STATUS'], drop_first=True)\n",
    "\n",
    "    # drop the original column\n",
    "    df.drop(columns='LP_LEBENSPHASE_FEIN', inplace=True)\n",
    "\n",
    "    # Also drop LP_LEBENSPHASE_GROB since the information in this feature is now be redundant\n",
    "    df.drop(columns='LP_LEBENSPHASE_GROB', inplace=True)\n",
    "    \n",
    "    return df"
   ]
  },
  {
   "cell_type": "code",
   "execution_count": 37,
   "metadata": {},
   "outputs": [],
   "source": [
    "def engineer_mixed_features(df):\n",
    "    '''\n",
    "    This function combines all the mixed feature engineering functions\n",
    "    INPUT: Dataframe with the mixed features\n",
    "    OUTPUT: Dataframe with the mixed features engineered into different features\n",
    "    '''\n",
    "    df = engineer_praegende_jugendjahre(df)\n",
    "    df = engineer_cameo_intl_2015(df)\n",
    "    df = engineer_wohnlage(df)\n",
    "    df = engineer_lp_lebensphase_fein(df)\n",
    "    return df"
   ]
  },
  {
   "cell_type": "code",
   "execution_count": 38,
   "metadata": {},
   "outputs": [
    {
     "data": {
      "text/plain": [
       "(747108, 134)"
      ]
     },
     "execution_count": 38,
     "metadata": {},
     "output_type": "execute_result"
    }
   ],
   "source": [
    "azdias = engineer_mixed_features(azdias)\n",
    "azdias.shape"
   ]
  },
  {
   "cell_type": "markdown",
   "metadata": {},
   "source": [
    "#### Discussion 1.2.2: Engineer Mixed-Type Features\n",
    "\n",
    "I've created two new features from PRAEGENDE_JUGENDJAHRE named YOUTH_DECADE and YOUTH_MOVEMENT, and two new features from CAMEO_INTL_2015 named CAMEO_WEALTH and CAMEO_LIFESTAGE. \n",
    "For the feature WOHNLAGE, there is only one category which makes this a mixed feature. 'new building in rural neighborhood'. Since there are very few entries in this category, am combining this category with the broader 'rural neighborhood' category.\n",
    "\n",
    "I engineered three features from LP_LEBENSPHASE_FEIN - LP_LEBENSPHASE_AGE, LP_LEBENSPHASE_INCOME and LP_LEBENSPHASE_STATUS\n",
    "Age and Income are ordinal so I left them as is. For status, I converted it into a categorical feature and dummy encoded it. The categories for status are single, couple, single_parent, family and multiperson_household\n",
    "Since these features capture all the relevant information from LP_LEBENSPHASE_FEIN, I've dropped LP_LEBENSPHASE_GROB feature.\n",
    "\n",
    "There are total of 134 features after this step"
   ]
  },
  {
   "cell_type": "markdown",
   "metadata": {},
   "source": [
    "#### Step 1.2.3: Complete Feature Selection\n",
    "\n",
    "In order to finish this step up, you need to make sure that your data frame now only has the columns that you want to keep. To summarize, the dataframe should consist of the following:\n",
    "- All numeric, interval, and ordinal type columns from the original dataset.\n",
    "- Binary categorical features (all numerically-encoded).\n",
    "- Engineered features from other multi-level categorical features and mixed features.\n",
    "\n",
    "Make sure that for any new columns that you have engineered, that you've excluded the original columns from the final dataset. Otherwise, their values will interfere with the analysis later on the project. For example, you should not keep \"PRAEGENDE_JUGENDJAHRE\", since its values won't be useful for the algorithm: only the values derived from it in the engineered features you created should be retained. As a reminder, your data should only be from **the subset with few or no missing values**."
   ]
  },
  {
   "cell_type": "markdown",
   "metadata": {},
   "source": [
    "### Step 1.3: Create a Cleaning Function\n",
    "\n",
    "Even though you've finished cleaning up the general population demographics data, it's important to look ahead to the future and realize that you'll need to perform the same cleaning steps on the customer demographics data. In this substep, complete the function below to execute the main feature selection, encoding, and re-engineering steps you performed above. Then, when it comes to looking at the customer data in Step 3, you can just run this function on that DataFrame to get the trimmed dataset in a single step."
   ]
  },
  {
   "cell_type": "code",
   "execution_count": 39,
   "metadata": {},
   "outputs": [],
   "source": [
    "def clean_data(df):\n",
    "    \"\"\"\n",
    "    Perform feature trimming, re-encoding, and engineering for demographics\n",
    "    data\n",
    "    \n",
    "    INPUT: Demographics DataFrame\n",
    "    OUTPUT: Trimmed and cleaned demographics DataFrame\n",
    "    \"\"\"\n",
    "    \n",
    "    # convert missing value codes into NaNs, ...\n",
    "    df = replace_missing_unknown(df)\n",
    "    \n",
    "    # remove selected columns and rows, ...\n",
    "    \n",
    "    # remove the same missing data outlier columns as the demographic data\n",
    "    df = df.drop(columns=missing_data_outlier_cols)\n",
    "\n",
    "    # drop the rows with missing data above 1.5*iqr\n",
    "    # the iqr to be used is from the demographic data, which is the\n",
    "    # same value used for the customer data too\n",
    "    df = drop_rows_with_missing_data(df, missing_rows_third_quartile, missing_rows_iqr)\n",
    "    \n",
    "    # select, re-encode, and engineer column values.\n",
    "    df = re_encode_categorical_data(df)\n",
    "    \n",
    "    df = engineer_mixed_features(df)\n",
    "    \n",
    "    # Return the cleaned dataframe.\n",
    "    return df\n",
    "    "
   ]
  },
  {
   "cell_type": "markdown",
   "metadata": {},
   "source": [
    "## Step 2: Feature Transformation\n",
    "\n",
    "### Step 2.1: Apply Feature Scaling\n",
    "\n",
    "Before we apply dimensionality reduction techniques to the data, we need to perform feature scaling so that the principal component vectors are not influenced by the natural differences in scale for features. Starting from this part of the project, you'll want to keep an eye on the [API reference page for sklearn](http://scikit-learn.org/stable/modules/classes.html) to help you navigate to all of the classes and functions that you'll need. In this substep, you'll need to check the following:\n",
    "\n",
    "- sklearn requires that data not have missing values in order for its estimators to work properly. So, before applying the scaler to your data, make sure that you've cleaned the DataFrame of the remaining missing values. This can be as simple as just removing all data points with missing data, or applying an [Imputer](http://scikit-learn.org/stable/modules/generated/sklearn.preprocessing.Imputer.html) to replace all missing values. You might also try a more complicated procedure where you temporarily remove missing values in order to compute the scaling parameters before re-introducing those missing values and applying imputation. Think about how much missing data you have and what possible effects each approach might have on your analysis, and justify your decision in the discussion section below.\n",
    "- For the actual scaling function, a [StandardScaler](http://scikit-learn.org/stable/modules/generated/sklearn.preprocessing.StandardScaler.html) instance is suggested, scaling each feature to mean 0 and standard deviation 1.\n",
    "- For these classes, you can make use of the `.fit_transform()` method to both fit a procedure to the data as well as apply the transformation to the data at the same time. Don't forget to keep the fit sklearn objects handy, since you'll be applying them to the customer demographics data towards the end of the project."
   ]
  },
  {
   "cell_type": "code",
   "execution_count": 40,
   "metadata": {},
   "outputs": [],
   "source": [
    "# Identify columns with missing data and \n",
    "# impute the NaNs with 'most_frequent'\n",
    "imputer = preprocessing.Imputer(strategy='most_frequent')\n",
    "azdias = pd.DataFrame(imputer.fit_transform(azdias), columns=azdias.columns)"
   ]
  },
  {
   "cell_type": "code",
   "execution_count": 41,
   "metadata": {},
   "outputs": [
    {
     "data": {
      "text/plain": [
       "Index([], dtype='object')"
      ]
     },
     "execution_count": 41,
     "metadata": {},
     "output_type": "execute_result"
    }
   ],
   "source": [
    "# verify there are no columns with NaNs\n",
    "azdias.columns[azdias.isna().sum() != 0]"
   ]
  },
  {
   "cell_type": "code",
   "execution_count": 42,
   "metadata": {},
   "outputs": [],
   "source": [
    "# Apply feature scaling to the general population demographics data.\n",
    "scaler = preprocessing.StandardScaler()\n",
    "azdias = pd.DataFrame(scaler.fit_transform(azdias), columns=azdias.columns)"
   ]
  },
  {
   "cell_type": "code",
   "execution_count": 43,
   "metadata": {},
   "outputs": [
    {
     "data": {
      "text/html": [
       "<div>\n",
       "<style scoped>\n",
       "    .dataframe tbody tr th:only-of-type {\n",
       "        vertical-align: middle;\n",
       "    }\n",
       "\n",
       "    .dataframe tbody tr th {\n",
       "        vertical-align: top;\n",
       "    }\n",
       "\n",
       "    .dataframe thead th {\n",
       "        text-align: right;\n",
       "    }\n",
       "</style>\n",
       "<table border=\"1\" class=\"dataframe\">\n",
       "  <thead>\n",
       "    <tr style=\"text-align: right;\">\n",
       "      <th></th>\n",
       "      <th>ALTERSKATEGORIE_GROB</th>\n",
       "      <th>ANREDE_KZ</th>\n",
       "      <th>FINANZ_MINIMALIST</th>\n",
       "      <th>FINANZ_SPARER</th>\n",
       "      <th>FINANZ_VORSORGER</th>\n",
       "      <th>FINANZ_ANLEGER</th>\n",
       "      <th>FINANZ_UNAUFFAELLIGER</th>\n",
       "      <th>FINANZ_HAUSBAUER</th>\n",
       "      <th>GREEN_AVANTGARDE</th>\n",
       "      <th>HEALTH_TYP</th>\n",
       "      <th>...</th>\n",
       "      <th>YOUTH_DECADE</th>\n",
       "      <th>YOUTH_MOVEMENT</th>\n",
       "      <th>CAMEO_WEALTH</th>\n",
       "      <th>CAMEO_LIFESTAGE</th>\n",
       "      <th>LP_LEBENSPHASE_AGE</th>\n",
       "      <th>LP_LEBENSPHASE_INCOME</th>\n",
       "      <th>LP_LEBENSPHASE_STATUS_2.0</th>\n",
       "      <th>LP_LEBENSPHASE_STATUS_3.0</th>\n",
       "      <th>LP_LEBENSPHASE_STATUS_4.0</th>\n",
       "      <th>LP_LEBENSPHASE_STATUS_5.0</th>\n",
       "    </tr>\n",
       "  </thead>\n",
       "  <tbody>\n",
       "    <tr>\n",
       "      <th>0</th>\n",
       "      <td>-1.754917</td>\n",
       "      <td>0.962858</td>\n",
       "      <td>-1.503660</td>\n",
       "      <td>1.559940</td>\n",
       "      <td>-1.049534</td>\n",
       "      <td>1.490707</td>\n",
       "      <td>1.013168</td>\n",
       "      <td>1.331158</td>\n",
       "      <td>-0.536372</td>\n",
       "      <td>1.013073</td>\n",
       "      <td>...</td>\n",
       "      <td>1.123586</td>\n",
       "      <td>-0.536372</td>\n",
       "      <td>1.164586</td>\n",
       "      <td>-1.249678</td>\n",
       "      <td>-0.511384</td>\n",
       "      <td>-0.918378</td>\n",
       "      <td>-0.373521</td>\n",
       "      <td>5.292710</td>\n",
       "      <td>-0.252689</td>\n",
       "      <td>-0.560036</td>\n",
       "    </tr>\n",
       "    <tr>\n",
       "      <th>1</th>\n",
       "      <td>0.198237</td>\n",
       "      <td>0.962858</td>\n",
       "      <td>-1.503660</td>\n",
       "      <td>0.884836</td>\n",
       "      <td>-1.773084</td>\n",
       "      <td>-0.555632</td>\n",
       "      <td>0.291141</td>\n",
       "      <td>1.331158</td>\n",
       "      <td>1.864376</td>\n",
       "      <td>1.013073</td>\n",
       "      <td>...</td>\n",
       "      <td>1.123586</td>\n",
       "      <td>1.864376</td>\n",
       "      <td>-0.880211</td>\n",
       "      <td>0.758859</td>\n",
       "      <td>-1.210798</td>\n",
       "      <td>-0.180954</td>\n",
       "      <td>-0.373521</td>\n",
       "      <td>-0.188939</td>\n",
       "      <td>-0.252689</td>\n",
       "      <td>-0.560036</td>\n",
       "    </tr>\n",
       "    <tr>\n",
       "      <th>2</th>\n",
       "      <td>1.174815</td>\n",
       "      <td>0.962858</td>\n",
       "      <td>0.685684</td>\n",
       "      <td>-0.465374</td>\n",
       "      <td>1.121117</td>\n",
       "      <td>-0.555632</td>\n",
       "      <td>-1.152911</td>\n",
       "      <td>-0.831846</td>\n",
       "      <td>-0.536372</td>\n",
       "      <td>-0.309432</td>\n",
       "      <td>...</td>\n",
       "      <td>-0.241508</td>\n",
       "      <td>-0.536372</td>\n",
       "      <td>-1.561810</td>\n",
       "      <td>-0.580166</td>\n",
       "      <td>-1.210798</td>\n",
       "      <td>-0.918378</td>\n",
       "      <td>-0.373521</td>\n",
       "      <td>-0.188939</td>\n",
       "      <td>-0.252689</td>\n",
       "      <td>-0.560036</td>\n",
       "    </tr>\n",
       "    <tr>\n",
       "      <th>3</th>\n",
       "      <td>0.198237</td>\n",
       "      <td>-1.038575</td>\n",
       "      <td>0.685684</td>\n",
       "      <td>0.209731</td>\n",
       "      <td>0.397567</td>\n",
       "      <td>-1.237745</td>\n",
       "      <td>0.291141</td>\n",
       "      <td>-0.831846</td>\n",
       "      <td>-0.536372</td>\n",
       "      <td>1.013073</td>\n",
       "      <td>...</td>\n",
       "      <td>-0.241508</td>\n",
       "      <td>-0.536372</td>\n",
       "      <td>0.482987</td>\n",
       "      <td>0.089347</td>\n",
       "      <td>0.887444</td>\n",
       "      <td>-0.180954</td>\n",
       "      <td>-0.373521</td>\n",
       "      <td>-0.188939</td>\n",
       "      <td>-0.252689</td>\n",
       "      <td>1.785599</td>\n",
       "    </tr>\n",
       "    <tr>\n",
       "      <th>4</th>\n",
       "      <td>-1.754917</td>\n",
       "      <td>0.962858</td>\n",
       "      <td>-0.044097</td>\n",
       "      <td>-1.140478</td>\n",
       "      <td>1.121117</td>\n",
       "      <td>-0.555632</td>\n",
       "      <td>-0.430885</td>\n",
       "      <td>1.331158</td>\n",
       "      <td>-0.536372</td>\n",
       "      <td>1.013073</td>\n",
       "      <td>...</td>\n",
       "      <td>-1.606602</td>\n",
       "      <td>-0.536372</td>\n",
       "      <td>1.164586</td>\n",
       "      <td>0.758859</td>\n",
       "      <td>1.586858</td>\n",
       "      <td>-0.180954</td>\n",
       "      <td>-0.373521</td>\n",
       "      <td>-0.188939</td>\n",
       "      <td>-0.252689</td>\n",
       "      <td>-0.560036</td>\n",
       "    </tr>\n",
       "  </tbody>\n",
       "</table>\n",
       "<p>5 rows × 134 columns</p>\n",
       "</div>"
      ],
      "text/plain": [
       "   ALTERSKATEGORIE_GROB  ANREDE_KZ  FINANZ_MINIMALIST  FINANZ_SPARER  \\\n",
       "0             -1.754917   0.962858          -1.503660       1.559940   \n",
       "1              0.198237   0.962858          -1.503660       0.884836   \n",
       "2              1.174815   0.962858           0.685684      -0.465374   \n",
       "3              0.198237  -1.038575           0.685684       0.209731   \n",
       "4             -1.754917   0.962858          -0.044097      -1.140478   \n",
       "\n",
       "   FINANZ_VORSORGER  FINANZ_ANLEGER  FINANZ_UNAUFFAELLIGER  FINANZ_HAUSBAUER  \\\n",
       "0         -1.049534        1.490707               1.013168          1.331158   \n",
       "1         -1.773084       -0.555632               0.291141          1.331158   \n",
       "2          1.121117       -0.555632              -1.152911         -0.831846   \n",
       "3          0.397567       -1.237745               0.291141         -0.831846   \n",
       "4          1.121117       -0.555632              -0.430885          1.331158   \n",
       "\n",
       "   GREEN_AVANTGARDE  HEALTH_TYP            ...              YOUTH_DECADE  \\\n",
       "0         -0.536372    1.013073            ...                  1.123586   \n",
       "1          1.864376    1.013073            ...                  1.123586   \n",
       "2         -0.536372   -0.309432            ...                 -0.241508   \n",
       "3         -0.536372    1.013073            ...                 -0.241508   \n",
       "4         -0.536372    1.013073            ...                 -1.606602   \n",
       "\n",
       "   YOUTH_MOVEMENT  CAMEO_WEALTH  CAMEO_LIFESTAGE  LP_LEBENSPHASE_AGE  \\\n",
       "0       -0.536372      1.164586        -1.249678           -0.511384   \n",
       "1        1.864376     -0.880211         0.758859           -1.210798   \n",
       "2       -0.536372     -1.561810        -0.580166           -1.210798   \n",
       "3       -0.536372      0.482987         0.089347            0.887444   \n",
       "4       -0.536372      1.164586         0.758859            1.586858   \n",
       "\n",
       "   LP_LEBENSPHASE_INCOME  LP_LEBENSPHASE_STATUS_2.0  \\\n",
       "0              -0.918378                  -0.373521   \n",
       "1              -0.180954                  -0.373521   \n",
       "2              -0.918378                  -0.373521   \n",
       "3              -0.180954                  -0.373521   \n",
       "4              -0.180954                  -0.373521   \n",
       "\n",
       "   LP_LEBENSPHASE_STATUS_3.0  LP_LEBENSPHASE_STATUS_4.0  \\\n",
       "0                   5.292710                  -0.252689   \n",
       "1                  -0.188939                  -0.252689   \n",
       "2                  -0.188939                  -0.252689   \n",
       "3                  -0.188939                  -0.252689   \n",
       "4                  -0.188939                  -0.252689   \n",
       "\n",
       "   LP_LEBENSPHASE_STATUS_5.0  \n",
       "0                  -0.560036  \n",
       "1                  -0.560036  \n",
       "2                  -0.560036  \n",
       "3                   1.785599  \n",
       "4                  -0.560036  \n",
       "\n",
       "[5 rows x 134 columns]"
      ]
     },
     "metadata": {},
     "output_type": "display_data"
    }
   ],
   "source": [
    "display(azdias.head())"
   ]
  },
  {
   "cell_type": "markdown",
   "metadata": {},
   "source": [
    "### Discussion 2.1: Apply Feature Scaling\n",
    "\n",
    "For imputation I used a Simple imputer and replaced the NaNs with 'most_frequent'. I went with this approach since some of the distributions are skewed. \n",
    "For scaling, I used the standard scaler with 0 mean and 1 standard deviation."
   ]
  },
  {
   "cell_type": "markdown",
   "metadata": {},
   "source": [
    "### Step 2.2: Perform Dimensionality Reduction\n",
    "\n",
    "On your scaled data, you are now ready to apply dimensionality reduction techniques.\n",
    "\n",
    "- Use sklearn's [PCA](http://scikit-learn.org/stable/modules/generated/sklearn.decomposition.PCA.html) class to apply principal component analysis on the data, thus finding the vectors of maximal variance in the data. To start, you should not set any parameters (so all components are computed) or set a number of components that is at least half the number of features (so there's enough features to see the general trend in variability).\n",
    "- Check out the ratio of variance explained by each principal component as well as the cumulative variance explained. Try plotting the cumulative or sequential values using matplotlib's [`plot()`](https://matplotlib.org/api/_as_gen/matplotlib.pyplot.plot.html) function. Based on what you find, select a value for the number of transformed features you'll retain for the clustering part of the project.\n",
    "- Once you've made a choice for the number of components to keep, make sure you re-fit a PCA instance to perform the decided-on transformation."
   ]
  },
  {
   "cell_type": "code",
   "execution_count": 44,
   "metadata": {},
   "outputs": [
    {
     "data": {
      "text/plain": [
       "PCA(copy=True, iterated_power='auto', n_components=None, random_state=42,\n",
       "  svd_solver='auto', tol=0.0, whiten=False)"
      ]
     },
     "execution_count": 44,
     "metadata": {},
     "output_type": "execute_result"
    }
   ],
   "source": [
    "# Apply PCA to the data.\n",
    "pca = PCA(random_state=42)\n",
    "pca.fit(azdias)"
   ]
  },
  {
   "cell_type": "code",
   "execution_count": 45,
   "metadata": {},
   "outputs": [
    {
     "data": {
      "image/png": "[encoded data removed]",
      "text/plain": [
       "<matplotlib.figure.Figure at 0x7ffa29382208>"
      ]
     },
     "metadata": {
      "needs_background": "light"
     },
     "output_type": "display_data"
    }
   ],
   "source": [
    "def scree_plot(pca):\n",
    "    '''\n",
    "    Creates a scree plot associated with the principal components \n",
    "    INPUT: pca - the result of instantiation of PCA in scikit learn\n",
    "    OUTPUT:None\n",
    "    '''\n",
    "    num_components = len(pca.explained_variance_ratio_)\n",
    "    ind = np.arange(num_components)\n",
    "    vals = pca.explained_variance_ratio_\n",
    " \n",
    "    plt.figure(figsize=(16, 9))\n",
    "    ax = plt.subplot(111)\n",
    "    cumvals = np.cumsum(vals)\n",
    "    ax.bar(ind, vals)\n",
    "    ax.plot(ind, cumvals)\n",
    "    for i in range(0,num_components,5):\n",
    "        ax.annotate(r\"   %s%%\" % ((str(vals[i]*100)[:4])), (ind[i]+0.2, vals[i]), va=\"bottom\", ha=\"center\", fontsize=12, rotation=90)\n",
    " \n",
    "    ax.xaxis.set_tick_params(width=0)\n",
    "    ax.yaxis.set_tick_params(width=2, length=12)\n",
    " \n",
    "    ax.set_xlabel(\"Principal Component\")\n",
    "    ax.set_ylabel(\"Variance Explained (%)\")\n",
    "    plt.title('Explained Variance Per Principal Component')\n",
    "    \n",
    "\n",
    "scree_plot(pca)"
   ]
  },
  {
   "cell_type": "code",
   "execution_count": 46,
   "metadata": {},
   "outputs": [
    {
     "name": "stdout",
     "output_type": "stream",
     "text": [
      "74\n"
     ]
    }
   ],
   "source": [
    "# Investigate the variance accounted for by each principal component.\n",
    "# Identify the number of components requied to account for 90% variance in the data\n",
    "cumsum = np.cumsum(pca.explained_variance_ratio_)\n",
    "n_comps = np.argmax(cumsum >= 0.9) + 1\n",
    "print(n_comps)"
   ]
  },
  {
   "cell_type": "code",
   "execution_count": 47,
   "metadata": {},
   "outputs": [],
   "source": [
    "# Re-apply PCA to the data while selecting for number of components to retain.\n",
    "\n",
    "# re fit PCA with the chosen number of components\n",
    "pca = PCA(n_components = n_comps, random_state=42)\n",
    "azdias_pca =  pca.fit_transform(azdias)"
   ]
  },
  {
   "cell_type": "markdown",
   "metadata": {},
   "source": [
    "### Discussion 2.2: Perform Dimensionality Reduction\n",
    "\n",
    "The first 5 components account for about 30% of the variance in the data. The explained variance tapers off gradually and at about 75 components we see a 'bend in the elbow' showing that the explained variance is not increasing much from this point.\n",
    "I'm choosing 74 components which explain 90% of variance in the data"
   ]
  },
  {
   "cell_type": "markdown",
   "metadata": {},
   "source": [
    "### Step 2.3: Interpret Principal Components\n",
    "\n",
    "Now that we have our transformed principal components, it's a nice idea to check out the weight of each variable on the first few components to see if they can be interpreted in some fashion.\n",
    "\n",
    "As a reminder, each principal component is a unit vector that points in the direction of highest variance (after accounting for the variance captured by earlier principal components). The further a weight is from zero, the more the principal component is in the direction of the corresponding feature. If two features have large weights of the same sign (both positive or both negative), then increases in one tend expect to be associated with increases in the other. To contrast, features with different signs can be expected to show a negative correlation: increases in one variable should result in a decrease in the other.\n",
    "\n",
    "- To investigate the features, you should map each weight to their corresponding feature name, then sort the features according to weight. The most interesting features for each principal component, then, will be those at the beginning and end of the sorted list. Use the data dictionary document to help you understand these most prominent features, their relationships, and what a positive or negative value on the principal component might indicate.\n",
    "- You should investigate and interpret feature associations from the first three principal components in this substep. To help facilitate this, you should write a function that you can call at any time to print the sorted list of feature weights, for the *i*-th principal component. This might come in handy in the next step of the project, when you interpret the tendencies of the discovered clusters."
   ]
  },
  {
   "cell_type": "code",
   "execution_count": 48,
   "metadata": {},
   "outputs": [],
   "source": [
    "def sorted_feature_weights(weights, indices):\n",
    "    '''\n",
    "    Associate the weights with the indices and return a sorted series in \n",
    "    descending order based on the weights\n",
    "    INPUT: \n",
    "            weights - the array of weights to sort\n",
    "            indices - the array of corresponding indices\n",
    "    OUTPUT:\n",
    "            A Series with the weights sorted in descending order\n",
    "    '''\n",
    "    pc_weights = pd.Series(weights, index=indices)\n",
    "    pc_weights.sort_values(ascending=False, inplace=True)\n",
    "    return pc_weights"
   ]
  },
  {
   "cell_type": "code",
   "execution_count": 65,
   "metadata": {},
   "outputs": [
    {
     "name": "stdout",
     "output_type": "stream",
     "text": [
      "PLZ8_ANTG3            0.185610\n",
      "PLZ8_ANTG4            0.180729\n",
      "HH_EINKOMMEN_SCORE    0.179815\n",
      "CAMEO_WEALTH          0.177584\n",
      "PLZ8_BAUMAX           0.177422\n",
      "ORTSGR_KLS9           0.158114\n",
      "dtype: float64\n",
      "KBA05_GBZ               -0.180584\n",
      "PLZ8_ANTG1              -0.186746\n",
      "KBA05_ANTG1             -0.187525\n",
      "LP_LEBENSPHASE_INCOME   -0.190775\n",
      "MOBI_REGIO              -0.198887\n",
      "FINANZ_MINIMALIST       -0.205895\n",
      "dtype: float64\n"
     ]
    }
   ],
   "source": [
    "# Map weights for the first principal component to corresponding feature names\n",
    "# and then print the linked values, sorted by weight.\n",
    "pc_weights = sorted_feature_weights(pca.components_[0], azdias.columns)\n",
    "print(pc_weights.head(6))\n",
    "print(pc_weights.tail(6))"
   ]
  },
  {
   "cell_type": "code",
   "execution_count": 50,
   "metadata": {},
   "outputs": [
    {
     "name": "stdout",
     "output_type": "stream",
     "text": [
      "ALTERSKATEGORIE_GROB    0.212734\n",
      "LP_LEBENSPHASE_AGE      0.207470\n",
      "FINANZ_VORSORGER        0.203232\n",
      "ZABEOTYP_3.0            0.193895\n",
      "SEMIO_ERL               0.167947\n",
      "RETOURTYP_BK_S          0.154831\n",
      "dtype: float64\n",
      "SEMIO_TRADV             -0.193040\n",
      "FINANZ_ANLEGER          -0.193838\n",
      "SEMIO_REL               -0.197751\n",
      "FINANZ_UNAUFFAELLIGER   -0.201886\n",
      "FINANZ_SPARER           -0.203485\n",
      "YOUTH_DECADE            -0.215730\n",
      "dtype: float64\n"
     ]
    }
   ],
   "source": [
    "# Map weights for the second principal component to corresponding feature names\n",
    "# and then print the linked values, sorted by weight.\n",
    "\n",
    "pc_weights = sorted_feature_weights(pca.components_[1], azdias.columns)\n",
    "print(pc_weights.head(6))\n",
    "print(pc_weights.tail(6))"
   ]
  },
  {
   "cell_type": "code",
   "execution_count": 51,
   "metadata": {},
   "outputs": [
    {
     "name": "stdout",
     "output_type": "stream",
     "text": [
      "SEMIO_VERT           0.332418\n",
      "SEMIO_FAM            0.267210\n",
      "SEMIO_SOZ            0.264391\n",
      "SEMIO_KULT           0.255759\n",
      "FINANZTYP_5.0        0.139709\n",
      "FINANZ_MINIMALIST    0.137358\n",
      "dtype: float64\n",
      "SEMIO_RAT    -0.160447\n",
      "SEMIO_ERL    -0.207671\n",
      "SEMIO_KRIT   -0.268208\n",
      "SEMIO_DOM    -0.290500\n",
      "SEMIO_KAEM   -0.325602\n",
      "ANREDE_KZ    -0.355761\n",
      "dtype: float64\n"
     ]
    }
   ],
   "source": [
    "# Map weights for the third principal component to corresponding feature names\n",
    "# and then print the linked values, sorted by weight.\n",
    "\n",
    "pc_weights = sorted_feature_weights(pca.components_[2], azdias.columns)\n",
    "print(pc_weights.head(6))\n",
    "print(pc_weights.tail(6))"
   ]
  },
  {
   "cell_type": "markdown",
   "metadata": {},
   "source": [
    "### Discussion 2.3: Interpret Principal Components\n",
    "\n",
    "Principal Component 1: This component has the positive weights for PLZ8_ANTG3, PLZ8_ANTG4, HH_EINKOMMEN_SCORE, CAMEO_WEALTH and PLZ8_BAUMAX in descending order of importance and the negative weights for FINANZ_MINIMALIST, MOBI_REGIO, LP_LEBENSPHASE_INCOME, KBA05_ANTG1 and PLZ8_ANTG1 in descending order of importance. This compoenent represents individuals in densely populated neighborhoods with high movement, like downtowns. They are lower income and low spending individuals.\n",
    "\n",
    "The correlations show that while lower income, living in areas with 6+ family homes, movement in the region are positively correlated, they have a negavtive correlation with savings and number of 1-2 family homes in the neighborhood.\n",
    "\n",
    "Principal Component 2: This component has positive weights for ALTERSKATEGORIE_GROB, LP_LEBENSPHASE_AGE, FINANZ_VORSORGER, ZABEOTYP_3 and SEMIO_ERL in descending order of importance and negtive weights for YOUTH_DECADE, FINANZ_SPARER, FINANZ_UNAUFFAELLIGER, SEMIO_REL and FINANZ_ANLEGER in descending order of importance. This component represents older individuals, more religios, traditional and with higher affinity for savings.\n",
    "\n",
    "So while age, religiousness, savings and investing are positively correlated, they are negatively correlated to event-orientedness, green/smart energy\n",
    "\n",
    "Principal component 3: This component has positive weights for SEMIO_VERT, SEMIO_SOZ, SEMIO_FAM, SEMIO_KULT and FINANZTYP_5.0 in decreasing order of importance and negative weights for ANREDE_KZ, SEMIO_KAEM, SEMIO_DOM, SEMIO_KRIT and SEMIO_ERL in decreasing order of importance. This component represents not very dreamful, socially or family minded men, dominant and aggresive, somewhat into investing and spending.\n",
    "\n",
    "The corerlations show that while women are mor dreamful, social, family and culture minded, men are more dominant, combative, event-oriented and investment savvy.\n",
    "\n",
    "In summary the main components appear to be centered around Income, Age and Sex"
   ]
  },
  {
   "cell_type": "markdown",
   "metadata": {},
   "source": [
    "## Step 3: Clustering\n",
    "\n",
    "### Step 3.1: Apply Clustering to General Population\n",
    "\n",
    "You've assessed and cleaned the demographics data, then scaled and transformed them. Now, it's time to see how the data clusters in the principal components space. In this substep, you will apply k-means clustering to the dataset and use the average within-cluster distances from each point to their assigned cluster's centroid to decide on a number of clusters to keep.\n",
    "\n",
    "- Use sklearn's [KMeans](http://scikit-learn.org/stable/modules/generated/sklearn.cluster.KMeans.html#sklearn.cluster.KMeans) class to perform k-means clustering on the PCA-transformed data.\n",
    "- Then, compute the average difference from each point to its assigned cluster's center. **Hint**: The KMeans object's `.score()` method might be useful here, but note that in sklearn, scores tend to be defined so that larger is better. Try applying it to a small, toy dataset, or use an internet search to help your understanding.\n",
    "- Perform the above two steps for a number of different cluster counts. You can then see how the average distance decreases with an increasing number of clusters. However, each additional cluster provides a smaller net benefit. Use this fact to select a final number of clusters in which to group the data. **Warning**: because of the large size of the dataset, it can take a long time for the algorithm to resolve. The more clusters to fit, the longer the algorithm will take. You should test for cluster counts through at least 10 clusters to get the full picture, but you shouldn't need to test for a number of clusters above about 30.\n",
    "- Once you've selected a final number of clusters to use, re-fit a KMeans instance to perform the clustering operation. Make sure that you also obtain the cluster assignments for the general demographics data, since you'll be using them in the final Step 3.3."
   ]
  },
  {
   "cell_type": "code",
   "execution_count": 52,
   "metadata": {},
   "outputs": [
    {
     "name": "stdout",
     "output_type": "stream",
     "text": [
      "Score for 2 clusters: 82422289.4885744\n",
      "Score for 3 clusters: 78130638.93865353\n",
      "Score for 4 clusters: 75444231.49825111\n",
      "Score for 5 clusters: 73676800.6977148\n",
      "Score for 6 clusters: 72282522.96213305\n",
      "Score for 7 clusters: 71052749.26437509\n",
      "Score for 8 clusters: 70114600.2972295\n",
      "Score for 9 clusters: 69156895.58066474\n",
      "Score for 10 clusters: 68489135.42980593\n",
      "Score for 11 clusters: 67981083.82964766\n",
      "Score for 12 clusters: 67255280.10029382\n",
      "Score for 13 clusters: 66512668.093167424\n",
      "Score for 14 clusters: 65679797.278873615\n",
      "Score for 15 clusters: 65801931.98351685\n",
      "Score for 16 clusters: 64854008.36195449\n",
      "Score for 17 clusters: 63974816.63217103\n",
      "Score for 18 clusters: 64089996.06727843\n",
      "Score for 19 clusters: 62931989.24298539\n"
     ]
    }
   ],
   "source": [
    "# Over a number of different cluster counts...\n",
    "scores = []\n",
    "for n in range(2,20):    \n",
    "    # run k-means clustering on the data and...\n",
    "    kmeans = KMeans(n_clusters=n, random_state=42)\n",
    "    kmeans.fit(azdias_pca)\n",
    "    \n",
    "    # compute the average within-cluster distances.\n",
    "    scores.append(abs(kmeans.score(azdias_pca)))\n",
    "    print(f'Score for {n} clusters: {scores[-1]}')"
   ]
  },
  {
   "cell_type": "code",
   "execution_count": 64,
   "metadata": {},
   "outputs": [
    {
     "data": {
      "text/plain": [
       "Text(0,0.5,'Score')"
      ]
     },
     "execution_count": 64,
     "metadata": {},
     "output_type": "execute_result"
    },
    {
     "data": {
      "image/png": "[encoded data removed]",
      "text/plain": [
       "<matplotlib.figure.Figure at 0x7ffa2d3ec550>"
      ]
     },
     "metadata": {
      "needs_background": "light"
     },
     "output_type": "display_data"
    }
   ],
   "source": [
    "# Investigate the change in within-cluster distance across number of clusters.\n",
    "clusters = list(range(2,20))\n",
    "plt.figure(figsize=(16, 9))\n",
    "plt.plot(clusters, scores, marker='o')\n",
    "plt.title('Score Vs No. of Clusters')\n",
    "plt.xlabel('No. of Clusters')\n",
    "plt.ylabel('Score')\n"
   ]
  },
  {
   "cell_type": "code",
   "execution_count": 54,
   "metadata": {},
   "outputs": [],
   "source": [
    "# Re-fit the k-means model with the selected number of clusters and obtain\n",
    "# cluster predictions for the general population demographics data.\n",
    "kmeans = KMeans(n_clusters=9, random_state=42)\n",
    "azdias_pred = kmeans.fit_predict(azdias_pca)\n"
   ]
  },
  {
   "cell_type": "markdown",
   "metadata": {},
   "source": [
    "### Discussion 3.1: Apply Clustering to General Population\n",
    "\n",
    "Applied Kmeans clustering and plotted the score by varying the number of clusters from 2 to 19.\n",
    "The plot shows the scores reducing faster in the beginning for small number of clusters. After that the descent is gradual and there is no visible 'elbow'. However the reduction in score is small from about 9 clusters so I'm choosing a value of 9 for the number of clusters. I think this will give me decent number of categories to map the population."
   ]
  },
  {
   "cell_type": "markdown",
   "metadata": {},
   "source": [
    "### Step 3.2: Apply All Steps to the Customer Data\n",
    "\n",
    "Now that you have clusters and cluster centers for the general population, it's time to see how the customer data maps on to those clusters. Take care to not confuse this for re-fitting all of the models to the customer data. Instead, you're going to use the fits from the general population to clean, transform, and cluster the customer data. In the last step of the project, you will interpret how the general population fits apply to the customer data.\n",
    "\n",
    "- Don't forget when loading in the customers data, that it is semicolon (`;`) delimited.\n",
    "- Apply the same feature wrangling, selection, and engineering steps to the customer demographics using the `clean_data()` function you created earlier. (You can assume that the customer demographics data has similar meaning behind missing data patterns as the general demographics data.)\n",
    "- Use the sklearn objects from the general demographics data, and apply their transformations to the customers data. That is, you should not be using a `.fit()` or `.fit_transform()` method to re-fit the old objects, nor should you be creating new sklearn objects! Carry the data through the feature scaling, PCA, and clustering steps, obtaining cluster assignments for all of the data in the customer demographics data."
   ]
  },
  {
   "cell_type": "code",
   "execution_count": 55,
   "metadata": {},
   "outputs": [],
   "source": [
    "# Load in the customer demographics data.\n",
    "customers = pd.read_csv('Udacity_CUSTOMERS_Subset.csv', sep=';')\n",
    "customers_rows = customers.shape[0]"
   ]
  },
  {
   "cell_type": "code",
   "execution_count": 56,
   "metadata": {},
   "outputs": [
    {
     "data": {
      "text/plain": [
       "<Container object of 85 artists>"
      ]
     },
     "execution_count": 56,
     "metadata": {},
     "output_type": "execute_result"
    },
    {
     "data": {
      "image/png": "[encoded data removed]",
      "text/plain": [
       "<matplotlib.figure.Figure at 0x7ffa2931f080>"
      ]
     },
     "metadata": {
      "needs_background": "light"
     },
     "output_type": "display_data"
    }
   ],
   "source": [
    "#plot the missing data\n",
    "plt.figure(figsize=(16,9))\n",
    "plt.xticks(rotation='vertical')\n",
    "plt.title('Customer data - Count of values missing per feature originally')\n",
    "plt.bar(x=customers.isna().sum().index.values, height=customers.isna().sum().values)"
   ]
  },
  {
   "cell_type": "code",
   "execution_count": 57,
   "metadata": {},
   "outputs": [],
   "source": [
    "# clean the data\n",
    "customers = clean_data(customers)\n",
    "\n",
    "customers_rows_dropped = customers_rows - customers.shape[0]"
   ]
  },
  {
   "cell_type": "code",
   "execution_count": 58,
   "metadata": {},
   "outputs": [
    {
     "name": "stdout",
     "output_type": "stream",
     "text": [
      "Index([], dtype='object')\n"
     ]
    }
   ],
   "source": [
    "# Apply preprocessing, feature transformation, and clustering from the general\n",
    "# demographics onto the customer data, obtaining cluster predictions for the\n",
    "# customer demographics data.\n",
    "\n",
    "# apply imputation from general demographics to customer demographics\n",
    "customers = pd.DataFrame(imputer.transform(customers), columns=customers.columns)\n",
    "\n",
    "#verify there are no NaNs anymore\n",
    "print(customers.columns[customers.isna().sum() != 0])\n",
    "\n",
    "# apply standard scaler from general demographics to customer demographics\n",
    "customers = pd.DataFrame(scaler.transform(customers), columns=customers.columns)\n",
    "\n",
    "# apply pca from general demographics to customer demographics\n",
    "customers_pca =  pca.transform(customers)\n",
    "\n",
    "# predict the clusters for the customer demographics using the general demographics model\n",
    "customers_pred = kmeans.predict(customers_pca)\n"
   ]
  },
  {
   "cell_type": "markdown",
   "metadata": {},
   "source": [
    "### Step 3.3: Compare Customer Data to Demographics Data\n",
    "\n",
    "At this point, you have clustered data based on demographics of the general population of Germany, and seen how the customer data for a mail-order sales company maps onto those demographic clusters. In this final substep, you will compare the two cluster distributions to see where the strongest customer base for the company is.\n",
    "\n",
    "Consider the proportion of persons in each cluster for the general population, and the proportions for the customers. If we think the company's customer base to be universal, then the cluster assignment proportions should be fairly similar between the two. If there are only particular segments of the population that are interested in the company's products, then we should see a mismatch from one to the other. If there is a higher proportion of persons in a cluster for the customer data compared to the general population (e.g. 5% of persons are assigned to a cluster for the general population, but 15% of the customer data is closest to that cluster's centroid) then that suggests the people in that cluster to be a target audience for the company. On the other hand, the proportion of the data in a cluster being larger in the general population than the customer data (e.g. only 2% of customers closest to a population centroid that captures 6% of the data) suggests that group of persons to be outside of the target demographics.\n",
    "\n",
    "Take a look at the following points in this step:\n",
    "\n",
    "- Compute the proportion of data points in each cluster for the general population and the customer data. Visualizations will be useful here: both for the individual dataset proportions, but also to visualize the ratios in cluster representation between groups. Seaborn's [`countplot()`](https://seaborn.pydata.org/generated/seaborn.countplot.html) or [`barplot()`](https://seaborn.pydata.org/generated/seaborn.barplot.html) function could be handy.\n",
    "  - Recall the analysis you performed in step 1.1.3 of the project, where you separated out certain data points from the dataset if they had more than a specified threshold of missing values. If you found that this group was qualitatively different from the main bulk of the data, you should treat this as an additional data cluster in this analysis. Make sure that you account for the number of data points in this subset, for both the general population and customer datasets, when making your computations!\n",
    "- Which cluster or clusters are overrepresented in the customer dataset compared to the general population? Select at least one such cluster and infer what kind of people might be represented by that cluster. Use the principal component interpretations from step 2.3 or look at additional components to help you make this inference. Alternatively, you can use the `.inverse_transform()` method of the PCA and StandardScaler objects to transform centroids back to the original data space and interpret the retrieved values directly.\n",
    "- Perform a similar investigation for the underrepresented clusters. Which cluster or clusters are underrepresented in the customer dataset compared to the general population, and what kinds of people are typified by these clusters?"
   ]
  },
  {
   "cell_type": "code",
   "execution_count": 59,
   "metadata": {},
   "outputs": [
    {
     "data": {
      "text/plain": [
       "<matplotlib.axes._subplots.AxesSubplot at 0x7ffa2941e898>"
      ]
     },
     "execution_count": 59,
     "metadata": {},
     "output_type": "execute_result"
    },
    {
     "data": {
      "image/png": "[encoded data removed]",
      "text/plain": [
       "<matplotlib.figure.Figure at 0x7ffa292fdbe0>"
      ]
     },
     "metadata": {
      "needs_background": "light"
     },
     "output_type": "display_data"
    }
   ],
   "source": [
    "# Compare the proportion of data in each cluster for the customer data to the\n",
    "# proportion of data in each cluster for the general population.\n",
    "\n",
    "cluster_idx, azdias_cluster_counts = np.unique(azdias_pred, return_counts=True)\n",
    "_, customers_cluster_counts = np.unique(customers_pred, return_counts=True)\n",
    "\n",
    "pred_map = {'cluster': cluster_idx, \n",
    "            'azdias': azdias_cluster_counts, \n",
    "            'customers': customers_cluster_counts}\n",
    "cluster_preds = pd.DataFrame(pred_map)\n",
    "\n",
    "# Add row for dropped missing data as another cluster\n",
    "cluster_preds.loc[len(cluster_preds)] = [len(cluster_preds), azdias_rows_dropped, customers_rows_dropped]\n",
    "\n",
    "# Convert the numbers in each cluster to a proportion of the corresponding dataset \n",
    "cluster_preds['azdias'] = (cluster_preds['azdias']/azdias_rows)*100\n",
    "cluster_preds['customers'] = (cluster_preds['customers']/customers_rows)*100\n",
    "\n",
    "plt.figure(figsize=(16, 9))\n",
    "ax = plt.subplot(111)\n",
    "ax.set_title('Percentage of people in each cluster')\n",
    "\n",
    "df = cluster_preds.melt(id_vars='cluster').rename(columns=str.title)\n",
    "sns.barplot(x='Cluster', y='Value', hue='Variable', data=df, ax=ax)\n"
   ]
  },
  {
   "cell_type": "code",
   "execution_count": 60,
   "metadata": {},
   "outputs": [
    {
     "data": {
      "text/html": [
       "<div>\n",
       "<style scoped>\n",
       "    .dataframe tbody tr th:only-of-type {\n",
       "        vertical-align: middle;\n",
       "    }\n",
       "\n",
       "    .dataframe tbody tr th {\n",
       "        vertical-align: top;\n",
       "    }\n",
       "\n",
       "    .dataframe thead th {\n",
       "        text-align: right;\n",
       "    }\n",
       "</style>\n",
       "<table border=\"1\" class=\"dataframe\">\n",
       "  <thead>\n",
       "    <tr style=\"text-align: right;\">\n",
       "      <th></th>\n",
       "      <th>cluster</th>\n",
       "      <th>azdias</th>\n",
       "      <th>customers</th>\n",
       "    </tr>\n",
       "  </thead>\n",
       "  <tbody>\n",
       "    <tr>\n",
       "      <th>0</th>\n",
       "      <td>0</td>\n",
       "      <td>11.977837</td>\n",
       "      <td>7.727026</td>\n",
       "    </tr>\n",
       "    <tr>\n",
       "      <th>1</th>\n",
       "      <td>1</td>\n",
       "      <td>6.566273</td>\n",
       "      <td>1.647256</td>\n",
       "    </tr>\n",
       "    <tr>\n",
       "      <th>2</th>\n",
       "      <td>2</td>\n",
       "      <td>10.119937</td>\n",
       "      <td>29.131968</td>\n",
       "    </tr>\n",
       "    <tr>\n",
       "      <th>3</th>\n",
       "      <td>3</td>\n",
       "      <td>4.243168</td>\n",
       "      <td>3.402521</td>\n",
       "    </tr>\n",
       "    <tr>\n",
       "      <th>4</th>\n",
       "      <td>4</td>\n",
       "      <td>8.587096</td>\n",
       "      <td>1.074343</td>\n",
       "    </tr>\n",
       "    <tr>\n",
       "      <th>5</th>\n",
       "      <td>5</td>\n",
       "      <td>13.959164</td>\n",
       "      <td>16.414647</td>\n",
       "    </tr>\n",
       "    <tr>\n",
       "      <th>6</th>\n",
       "      <td>6</td>\n",
       "      <td>11.926671</td>\n",
       "      <td>8.983992</td>\n",
       "    </tr>\n",
       "    <tr>\n",
       "      <th>7</th>\n",
       "      <td>7</td>\n",
       "      <td>9.178980</td>\n",
       "      <td>0.671530</td>\n",
       "    </tr>\n",
       "    <tr>\n",
       "      <th>8</th>\n",
       "      <td>8</td>\n",
       "      <td>7.270587</td>\n",
       "      <td>0.566130</td>\n",
       "    </tr>\n",
       "    <tr>\n",
       "      <th>9</th>\n",
       "      <td>9</td>\n",
       "      <td>16.170176</td>\n",
       "      <td>30.380586</td>\n",
       "    </tr>\n",
       "  </tbody>\n",
       "</table>\n",
       "</div>"
      ],
      "text/plain": [
       "   cluster     azdias  customers\n",
       "0        0  11.977837   7.727026\n",
       "1        1   6.566273   1.647256\n",
       "2        2  10.119937  29.131968\n",
       "3        3   4.243168   3.402521\n",
       "4        4   8.587096   1.074343\n",
       "5        5  13.959164  16.414647\n",
       "6        6  11.926671   8.983992\n",
       "7        7   9.178980   0.671530\n",
       "8        8   7.270587   0.566130\n",
       "9        9  16.170176  30.380586"
      ]
     },
     "metadata": {},
     "output_type": "display_data"
    }
   ],
   "source": [
    "display(cluster_preds)"
   ]
  },
  {
   "cell_type": "code",
   "execution_count": 61,
   "metadata": {},
   "outputs": [
    {
     "data": {
      "text/html": [
       "<div>\n",
       "<style scoped>\n",
       "    .dataframe tbody tr th:only-of-type {\n",
       "        vertical-align: middle;\n",
       "    }\n",
       "\n",
       "    .dataframe tbody tr th {\n",
       "        vertical-align: top;\n",
       "    }\n",
       "\n",
       "    .dataframe thead th {\n",
       "        text-align: right;\n",
       "    }\n",
       "</style>\n",
       "<table border=\"1\" class=\"dataframe\">\n",
       "  <thead>\n",
       "    <tr style=\"text-align: right;\">\n",
       "      <th></th>\n",
       "      <th>ALTERSKATEGORIE_GROB</th>\n",
       "      <th>ANREDE_KZ</th>\n",
       "      <th>FINANZ_MINIMALIST</th>\n",
       "      <th>FINANZ_SPARER</th>\n",
       "      <th>FINANZ_VORSORGER</th>\n",
       "      <th>FINANZ_ANLEGER</th>\n",
       "      <th>FINANZ_UNAUFFAELLIGER</th>\n",
       "      <th>FINANZ_HAUSBAUER</th>\n",
       "      <th>GREEN_AVANTGARDE</th>\n",
       "      <th>HEALTH_TYP</th>\n",
       "      <th>...</th>\n",
       "      <th>YOUTH_DECADE</th>\n",
       "      <th>YOUTH_MOVEMENT</th>\n",
       "      <th>CAMEO_WEALTH</th>\n",
       "      <th>CAMEO_LIFESTAGE</th>\n",
       "      <th>LP_LEBENSPHASE_AGE</th>\n",
       "      <th>LP_LEBENSPHASE_INCOME</th>\n",
       "      <th>LP_LEBENSPHASE_STATUS_2.0</th>\n",
       "      <th>LP_LEBENSPHASE_STATUS_3.0</th>\n",
       "      <th>LP_LEBENSPHASE_STATUS_4.0</th>\n",
       "      <th>LP_LEBENSPHASE_STATUS_5.0</th>\n",
       "    </tr>\n",
       "  </thead>\n",
       "  <tbody>\n",
       "    <tr>\n",
       "      <th>0</th>\n",
       "      <td>3.527183</td>\n",
       "      <td>1.972432</td>\n",
       "      <td>2.594722</td>\n",
       "      <td>1.796119</td>\n",
       "      <td>4.325143</td>\n",
       "      <td>2.163007</td>\n",
       "      <td>1.682561</td>\n",
       "      <td>4.270473</td>\n",
       "      <td>0.073334</td>\n",
       "      <td>1.998048</td>\n",
       "      <td>...</td>\n",
       "      <td>3.343418</td>\n",
       "      <td>0.073334</td>\n",
       "      <td>4.147559</td>\n",
       "      <td>2.724000</td>\n",
       "      <td>3.755822</td>\n",
       "      <td>1.470550</td>\n",
       "      <td>0.121764</td>\n",
       "      <td>0.014248</td>\n",
       "      <td>0.005218</td>\n",
       "      <td>0.149552</td>\n",
       "    </tr>\n",
       "    <tr>\n",
       "      <th>1</th>\n",
       "      <td>1.983540</td>\n",
       "      <td>0.997546</td>\n",
       "      <td>3.257688</td>\n",
       "      <td>3.903573</td>\n",
       "      <td>2.104807</td>\n",
       "      <td>3.697440</td>\n",
       "      <td>3.978431</td>\n",
       "      <td>2.046294</td>\n",
       "      <td>0.323266</td>\n",
       "      <td>2.251762</td>\n",
       "      <td>...</td>\n",
       "      <td>5.633066</td>\n",
       "      <td>0.323266</td>\n",
       "      <td>2.467423</td>\n",
       "      <td>3.286213</td>\n",
       "      <td>1.494591</td>\n",
       "      <td>2.645856</td>\n",
       "      <td>0.087430</td>\n",
       "      <td>0.045325</td>\n",
       "      <td>-0.000133</td>\n",
       "      <td>0.414382</td>\n",
       "    </tr>\n",
       "    <tr>\n",
       "      <th>2</th>\n",
       "      <td>3.421241</td>\n",
       "      <td>1.496535</td>\n",
       "      <td>4.589401</td>\n",
       "      <td>1.464185</td>\n",
       "      <td>4.414851</td>\n",
       "      <td>1.682338</td>\n",
       "      <td>1.970324</td>\n",
       "      <td>2.245054</td>\n",
       "      <td>0.986974</td>\n",
       "      <td>2.086678</td>\n",
       "      <td>...</td>\n",
       "      <td>3.357495</td>\n",
       "      <td>0.986974</td>\n",
       "      <td>2.026153</td>\n",
       "      <td>3.634520</td>\n",
       "      <td>3.436855</td>\n",
       "      <td>4.483499</td>\n",
       "      <td>0.215605</td>\n",
       "      <td>0.018975</td>\n",
       "      <td>0.004107</td>\n",
       "      <td>0.429494</td>\n",
       "    </tr>\n",
       "    <tr>\n",
       "      <th>3</th>\n",
       "      <td>2.528904</td>\n",
       "      <td>1.494982</td>\n",
       "      <td>3.529932</td>\n",
       "      <td>3.115537</td>\n",
       "      <td>3.043568</td>\n",
       "      <td>3.447931</td>\n",
       "      <td>3.150760</td>\n",
       "      <td>1.935170</td>\n",
       "      <td>0.387954</td>\n",
       "      <td>2.311040</td>\n",
       "      <td>...</td>\n",
       "      <td>5.209631</td>\n",
       "      <td>0.387954</td>\n",
       "      <td>2.458408</td>\n",
       "      <td>3.180407</td>\n",
       "      <td>2.032488</td>\n",
       "      <td>3.124244</td>\n",
       "      <td>-0.007885</td>\n",
       "      <td>-0.007429</td>\n",
       "      <td>0.985282</td>\n",
       "      <td>-0.037338</td>\n",
       "    </tr>\n",
       "    <tr>\n",
       "      <th>4</th>\n",
       "      <td>1.961332</td>\n",
       "      <td>1.975154</td>\n",
       "      <td>2.303430</td>\n",
       "      <td>3.862941</td>\n",
       "      <td>2.295800</td>\n",
       "      <td>4.303645</td>\n",
       "      <td>3.838392</td>\n",
       "      <td>2.859100</td>\n",
       "      <td>0.198300</td>\n",
       "      <td>2.316083</td>\n",
       "      <td>...</td>\n",
       "      <td>5.604844</td>\n",
       "      <td>0.198300</td>\n",
       "      <td>2.509101</td>\n",
       "      <td>3.225550</td>\n",
       "      <td>1.598357</td>\n",
       "      <td>2.192903</td>\n",
       "      <td>0.077715</td>\n",
       "      <td>0.128582</td>\n",
       "      <td>0.002322</td>\n",
       "      <td>0.335135</td>\n",
       "    </tr>\n",
       "    <tr>\n",
       "      <th>5</th>\n",
       "      <td>3.449510</td>\n",
       "      <td>1.485410</td>\n",
       "      <td>4.255047</td>\n",
       "      <td>1.579193</td>\n",
       "      <td>4.353338</td>\n",
       "      <td>2.380743</td>\n",
       "      <td>1.663702</td>\n",
       "      <td>2.563654</td>\n",
       "      <td>-0.001574</td>\n",
       "      <td>2.199247</td>\n",
       "      <td>...</td>\n",
       "      <td>3.392756</td>\n",
       "      <td>-0.001574</td>\n",
       "      <td>2.487940</td>\n",
       "      <td>3.327674</td>\n",
       "      <td>3.656358</td>\n",
       "      <td>2.695741</td>\n",
       "      <td>0.179795</td>\n",
       "      <td>0.012033</td>\n",
       "      <td>0.001430</td>\n",
       "      <td>0.294703</td>\n",
       "    </tr>\n",
       "    <tr>\n",
       "      <th>6</th>\n",
       "      <td>3.278008</td>\n",
       "      <td>1.053655</td>\n",
       "      <td>3.292039</td>\n",
       "      <td>1.907104</td>\n",
       "      <td>4.283349</td>\n",
       "      <td>1.593589</td>\n",
       "      <td>1.703209</td>\n",
       "      <td>3.623651</td>\n",
       "      <td>0.103420</td>\n",
       "      <td>2.405892</td>\n",
       "      <td>...</td>\n",
       "      <td>3.505059</td>\n",
       "      <td>0.103420</td>\n",
       "      <td>4.239193</td>\n",
       "      <td>2.412390</td>\n",
       "      <td>3.572484</td>\n",
       "      <td>1.578169</td>\n",
       "      <td>0.145749</td>\n",
       "      <td>0.007924</td>\n",
       "      <td>0.007858</td>\n",
       "      <td>0.144633</td>\n",
       "    </tr>\n",
       "    <tr>\n",
       "      <th>7</th>\n",
       "      <td>1.727943</td>\n",
       "      <td>2.005800</td>\n",
       "      <td>1.131114</td>\n",
       "      <td>4.382051</td>\n",
       "      <td>2.174233</td>\n",
       "      <td>4.259089</td>\n",
       "      <td>3.718584</td>\n",
       "      <td>4.284958</td>\n",
       "      <td>0.037108</td>\n",
       "      <td>2.283776</td>\n",
       "      <td>...</td>\n",
       "      <td>5.724872</td>\n",
       "      <td>0.037108</td>\n",
       "      <td>4.377227</td>\n",
       "      <td>2.036669</td>\n",
       "      <td>1.451986</td>\n",
       "      <td>1.125236</td>\n",
       "      <td>0.070311</td>\n",
       "      <td>0.072530</td>\n",
       "      <td>0.041931</td>\n",
       "      <td>0.159495</td>\n",
       "    </tr>\n",
       "    <tr>\n",
       "      <th>8</th>\n",
       "      <td>1.911049</td>\n",
       "      <td>0.961563</td>\n",
       "      <td>1.903457</td>\n",
       "      <td>4.412585</td>\n",
       "      <td>1.995683</td>\n",
       "      <td>3.550682</td>\n",
       "      <td>3.778361</td>\n",
       "      <td>3.572001</td>\n",
       "      <td>0.115204</td>\n",
       "      <td>2.391547</td>\n",
       "      <td>...</td>\n",
       "      <td>5.779858</td>\n",
       "      <td>0.115204</td>\n",
       "      <td>4.413360</td>\n",
       "      <td>1.953368</td>\n",
       "      <td>1.381546</td>\n",
       "      <td>1.237753</td>\n",
       "      <td>0.071791</td>\n",
       "      <td>0.031391</td>\n",
       "      <td>0.031490</td>\n",
       "      <td>0.155931</td>\n",
       "    </tr>\n",
       "  </tbody>\n",
       "</table>\n",
       "<p>9 rows × 134 columns</p>\n",
       "</div>"
      ],
      "text/plain": [
       "   ALTERSKATEGORIE_GROB  ANREDE_KZ  FINANZ_MINIMALIST  FINANZ_SPARER  \\\n",
       "0              3.527183   1.972432           2.594722       1.796119   \n",
       "1              1.983540   0.997546           3.257688       3.903573   \n",
       "2              3.421241   1.496535           4.589401       1.464185   \n",
       "3              2.528904   1.494982           3.529932       3.115537   \n",
       "4              1.961332   1.975154           2.303430       3.862941   \n",
       "5              3.449510   1.485410           4.255047       1.579193   \n",
       "6              3.278008   1.053655           3.292039       1.907104   \n",
       "7              1.727943   2.005800           1.131114       4.382051   \n",
       "8              1.911049   0.961563           1.903457       4.412585   \n",
       "\n",
       "   FINANZ_VORSORGER  FINANZ_ANLEGER  FINANZ_UNAUFFAELLIGER  FINANZ_HAUSBAUER  \\\n",
       "0          4.325143        2.163007               1.682561          4.270473   \n",
       "1          2.104807        3.697440               3.978431          2.046294   \n",
       "2          4.414851        1.682338               1.970324          2.245054   \n",
       "3          3.043568        3.447931               3.150760          1.935170   \n",
       "4          2.295800        4.303645               3.838392          2.859100   \n",
       "5          4.353338        2.380743               1.663702          2.563654   \n",
       "6          4.283349        1.593589               1.703209          3.623651   \n",
       "7          2.174233        4.259089               3.718584          4.284958   \n",
       "8          1.995683        3.550682               3.778361          3.572001   \n",
       "\n",
       "   GREEN_AVANTGARDE  HEALTH_TYP            ...              YOUTH_DECADE  \\\n",
       "0          0.073334    1.998048            ...                  3.343418   \n",
       "1          0.323266    2.251762            ...                  5.633066   \n",
       "2          0.986974    2.086678            ...                  3.357495   \n",
       "3          0.387954    2.311040            ...                  5.209631   \n",
       "4          0.198300    2.316083            ...                  5.604844   \n",
       "5         -0.001574    2.199247            ...                  3.392756   \n",
       "6          0.103420    2.405892            ...                  3.505059   \n",
       "7          0.037108    2.283776            ...                  5.724872   \n",
       "8          0.115204    2.391547            ...                  5.779858   \n",
       "\n",
       "   YOUTH_MOVEMENT  CAMEO_WEALTH  CAMEO_LIFESTAGE  LP_LEBENSPHASE_AGE  \\\n",
       "0        0.073334      4.147559         2.724000            3.755822   \n",
       "1        0.323266      2.467423         3.286213            1.494591   \n",
       "2        0.986974      2.026153         3.634520            3.436855   \n",
       "3        0.387954      2.458408         3.180407            2.032488   \n",
       "4        0.198300      2.509101         3.225550            1.598357   \n",
       "5       -0.001574      2.487940         3.327674            3.656358   \n",
       "6        0.103420      4.239193         2.412390            3.572484   \n",
       "7        0.037108      4.377227         2.036669            1.451986   \n",
       "8        0.115204      4.413360         1.953368            1.381546   \n",
       "\n",
       "   LP_LEBENSPHASE_INCOME  LP_LEBENSPHASE_STATUS_2.0  \\\n",
       "0               1.470550                   0.121764   \n",
       "1               2.645856                   0.087430   \n",
       "2               4.483499                   0.215605   \n",
       "3               3.124244                  -0.007885   \n",
       "4               2.192903                   0.077715   \n",
       "5               2.695741                   0.179795   \n",
       "6               1.578169                   0.145749   \n",
       "7               1.125236                   0.070311   \n",
       "8               1.237753                   0.071791   \n",
       "\n",
       "   LP_LEBENSPHASE_STATUS_3.0  LP_LEBENSPHASE_STATUS_4.0  \\\n",
       "0                   0.014248                   0.005218   \n",
       "1                   0.045325                  -0.000133   \n",
       "2                   0.018975                   0.004107   \n",
       "3                  -0.007429                   0.985282   \n",
       "4                   0.128582                   0.002322   \n",
       "5                   0.012033                   0.001430   \n",
       "6                   0.007924                   0.007858   \n",
       "7                   0.072530                   0.041931   \n",
       "8                   0.031391                   0.031490   \n",
       "\n",
       "   LP_LEBENSPHASE_STATUS_5.0  \n",
       "0                   0.149552  \n",
       "1                   0.414382  \n",
       "2                   0.429494  \n",
       "3                  -0.037338  \n",
       "4                   0.335135  \n",
       "5                   0.294703  \n",
       "6                   0.144633  \n",
       "7                   0.159495  \n",
       "8                   0.155931  \n",
       "\n",
       "[9 rows x 134 columns]"
      ]
     },
     "metadata": {},
     "output_type": "display_data"
    }
   ],
   "source": [
    "# apply inverse transforms to the cluster centers to get their actual values\n",
    "x = scaler.inverse_transform(pca.inverse_transform(kmeans.cluster_centers_))\n",
    "cluster_centers = pd.DataFrame(x, columns=azdias.columns)\n",
    "\n",
    "display(cluster_centers)"
   ]
  },
  {
   "cell_type": "code",
   "execution_count": 62,
   "metadata": {},
   "outputs": [
    {
     "name": "stdout",
     "output_type": "stream",
     "text": [
      "HH_EINKOMMEN_SCORE: 2.33803605426\n",
      "CAMEO_WEALTH: 2.02615347555\n",
      "LP_LEBENSPHASE_AGE: 3.43685506561\n",
      "ALTERSKATEGORIE_GROB: 3.42124057701\n",
      "ANREDE_KZ: 1.49653456587\n"
     ]
    }
   ],
   "source": [
    "# What kinds of people are part of a cluster that is overrepresented in the\n",
    "# customer data compared to the general population?\n",
    "\n",
    "# get the cluster with the highest overrepresentation in the customer data\n",
    "diff = (cluster_preds.customers - cluster_preds.azdias) / cluster_preds.azdias\n",
    "\n",
    "max_cluster = (diff.sort_values(ascending=False).index[0])\n",
    "\n",
    "# printing some of the principal features like Income, age and sex\n",
    "print('HH_EINKOMMEN_SCORE:', cluster_centers.iloc[max_cluster].HH_EINKOMMEN_SCORE)\n",
    "print('CAMEO_WEALTH:', cluster_centers.iloc[max_cluster].CAMEO_WEALTH)\n",
    "print('LP_LEBENSPHASE_AGE:', cluster_centers.iloc[max_cluster].LP_LEBENSPHASE_AGE)\n",
    "print('ALTERSKATEGORIE_GROB:', cluster_centers.iloc[max_cluster].ALTERSKATEGORIE_GROB)\n",
    "print('ANREDE_KZ:',cluster_centers.iloc[max_cluster].ANREDE_KZ)\n"
   ]
  },
  {
   "cell_type": "code",
   "execution_count": 63,
   "metadata": {},
   "outputs": [
    {
     "name": "stdout",
     "output_type": "stream",
     "text": [
      "HH_EINKOMMEN_SCORE: 5.64414127743\n",
      "CAMEO_WEALTH: 4.37722660935\n",
      "LP_LEBENSPHASE_AGE: 1.45198597771\n",
      "ALTERSKATEGORIE_GROB: 1.72794250984\n",
      "ANREDE_KZ: 2.00579987119\n"
     ]
    }
   ],
   "source": [
    "# What kinds of people are part of a cluster that is underrepresented in the\n",
    "# customer data compared to the general population?\n",
    "\n",
    "# get the cluster with the lowest underrepresentation in the customer data\n",
    "min_cluster = (diff.sort_values(ascending=False).index[-1])\n",
    "\n",
    "# printing some of the principal features like Income, age and sex\n",
    "print('HH_EINKOMMEN_SCORE:', cluster_centers.iloc[min_cluster].HH_EINKOMMEN_SCORE)\n",
    "print('CAMEO_WEALTH:', cluster_centers.iloc[min_cluster].CAMEO_WEALTH)\n",
    "print('LP_LEBENSPHASE_AGE:', cluster_centers.iloc[min_cluster].LP_LEBENSPHASE_AGE)\n",
    "print('ALTERSKATEGORIE_GROB:', cluster_centers.iloc[min_cluster].ALTERSKATEGORIE_GROB)\n",
    "print('ANREDE_KZ:',cluster_centers.iloc[min_cluster].ANREDE_KZ)\n"
   ]
  },
  {
   "cell_type": "markdown",
   "metadata": {},
   "source": [
    "### Discussion 3.3: Compare Customer Data to Demographics Data\n",
    "\n",
    "There are two clusters that are overrepresented among the customers compared to the general population. \n",
    "\n",
    "The first cluster has 10.2% of general population whereas it has 29.1% of the customers. \n",
    "Here are some of the main characteristics of this cluster:\n",
    "- Very high income, highest among all the clusters, from upper class, conservative, upper middleclass neighborhoods with mostly 1-2 family homes\n",
    "- Older in age, mostly over 45, older families, mature couples, elders in retirement\n",
    "- Both men and women\n",
    "- Less than avergare likelihood of children in the household\n",
    "- Average social and family minded, more traditional and rational minded, less dreamful and sensual minded\n",
    "- Advertising and consumption minimalists and traditionalists, with some online and store shopping\n",
    "- High online affinity\n",
    "- Very high investment and savings, finacially inconscpicuos\n",
    "- High likelihood of being member of green avantgarde\n",
    "- Vacation habits : Connoisseurs, Homeland-connected vacationists, Nature fans, Golden ager\n",
    "- Demanding shoppers, shopping stressed\n",
    "\n",
    "The second cluster has 13.9% of general population and 16.4% of the customers.\n",
    "Here are some of the main characteristics of this cluster:\n",
    "\n",
    "- Average income individuals, from average neighborhood with mostly 1-2 family homes\n",
    "- Both men and women\n",
    "- 45 and older, but less older than the cluster described above. Familes with school age children, older families and mature couples\n",
    "- average likelihood of children in household(W_KEIT_KIND_HH  4.559638)\n",
    "- Religious, traditional, rational and materialistic. Less sensual minded.\n",
    "- Advertising and Consumption traditionalists\n",
    "- no standout vacation habits\n",
    "- moderate to high online affinity\n",
    "- Savers, investors, home owners, finacially inconspicuos\n",
    "\n",
    "Other than these two clusters, the cluster with missing data is also overrepresented among the customers. While the general population has 16% missing data, the customers have 30% missing data.\n",
    "\n",
    "The cluster that is most underrepresented among the customers, 9.2% of general population but 0.68% of customers has the following characteristics:\n",
    "\n",
    "- Low to very low income from average neighborhood with mostly 6-10 family homes\n",
    "- 30 or slightly older, pre-family couples and singles, young couples with children\n",
    "- predominantly women\n",
    "- average likelihood of children in household\n",
    "- dreamful, sensual, social minded. Not rational, religious, traditional or dominant\n",
    "- advertising interested store and online shopper                                                                    \n",
    "- High online affinity\n",
    "- finance minimalists, prepared (vorsorger)\n",
    "- mostly without vacation, active families\n",
    "- Mostly family shoppers\n"
   ]
  },
  {
   "cell_type": "markdown",
   "metadata": {},
   "source": [
    "> Congratulations on making it this far in the project! Before you finish, make sure to check through the entire notebook from top to bottom to make sure that your analysis follows a logical flow and all of your findings are documented in **Discussion** cells. Once you've checked over all of your work, you should export the notebook as an HTML document to submit for evaluation. You can do this from the menu, navigating to **File -> Download as -> HTML (.html)**. You will submit both that document and this notebook for your project submission."
   ]
  },
  {
   "cell_type": "code",
   "execution_count": null,
   "metadata": {},
   "outputs": [],
   "source": []
  }
 ],
 "metadata": {
  "kernelspec": {
   "display_name": "Python 3",
   "language": "python",
   "name": "python3"
  },
  "language_info": {
   "codemirror_mode": {
    "name": "ipython",
    "version": 3
   },
   "file_extension": ".py",
   "mimetype": "text/x-python",
   "name": "python",
   "nbconvert_exporter": "python",
   "pygments_lexer": "ipython3",
   "version": "3.6.3"
  }
 },
 "nbformat": 4,
 "nbformat_minor": 2
}
